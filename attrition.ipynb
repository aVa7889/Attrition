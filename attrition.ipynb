{
  "cells": [
    {
      "cell_type": "markdown",
      "metadata": {
        "id": "alIIEHibGc3M"
      },
      "source": [
        "## Part 1: Preprocessing"
      ]
    },
    {
      "cell_type": "code",
      "execution_count": 182,
      "metadata": {
        "colab": {
          "base_uri": "https://localhost:8080/",
          "height": 325
        },
        "id": "6eDUJ4NtGc3P",
        "outputId": "2480098c-135c-4cbf-9552-018494ee8ff5"
      },
      "outputs": [
        {
          "data": {
            "text/html": [
              "<div>\n",
              "<style scoped>\n",
              "    .dataframe tbody tr th:only-of-type {\n",
              "        vertical-align: middle;\n",
              "    }\n",
              "\n",
              "    .dataframe tbody tr th {\n",
              "        vertical-align: top;\n",
              "    }\n",
              "\n",
              "    .dataframe thead th {\n",
              "        text-align: right;\n",
              "    }\n",
              "</style>\n",
              "<table border=\"1\" class=\"dataframe\">\n",
              "  <thead>\n",
              "    <tr style=\"text-align: right;\">\n",
              "      <th></th>\n",
              "      <th>Age</th>\n",
              "      <th>Attrition</th>\n",
              "      <th>BusinessTravel</th>\n",
              "      <th>Department</th>\n",
              "      <th>DistanceFromHome</th>\n",
              "      <th>Education</th>\n",
              "      <th>EducationField</th>\n",
              "      <th>EnvironmentSatisfaction</th>\n",
              "      <th>HourlyRate</th>\n",
              "      <th>JobInvolvement</th>\n",
              "      <th>...</th>\n",
              "      <th>PerformanceRating</th>\n",
              "      <th>RelationshipSatisfaction</th>\n",
              "      <th>StockOptionLevel</th>\n",
              "      <th>TotalWorkingYears</th>\n",
              "      <th>TrainingTimesLastYear</th>\n",
              "      <th>WorkLifeBalance</th>\n",
              "      <th>YearsAtCompany</th>\n",
              "      <th>YearsInCurrentRole</th>\n",
              "      <th>YearsSinceLastPromotion</th>\n",
              "      <th>YearsWithCurrManager</th>\n",
              "    </tr>\n",
              "  </thead>\n",
              "  <tbody>\n",
              "    <tr>\n",
              "      <th>0</th>\n",
              "      <td>41</td>\n",
              "      <td>Yes</td>\n",
              "      <td>Travel_Rarely</td>\n",
              "      <td>Sales</td>\n",
              "      <td>1</td>\n",
              "      <td>2</td>\n",
              "      <td>Life Sciences</td>\n",
              "      <td>2</td>\n",
              "      <td>94</td>\n",
              "      <td>3</td>\n",
              "      <td>...</td>\n",
              "      <td>3</td>\n",
              "      <td>1</td>\n",
              "      <td>0</td>\n",
              "      <td>8</td>\n",
              "      <td>0</td>\n",
              "      <td>1</td>\n",
              "      <td>6</td>\n",
              "      <td>4</td>\n",
              "      <td>0</td>\n",
              "      <td>5</td>\n",
              "    </tr>\n",
              "    <tr>\n",
              "      <th>1</th>\n",
              "      <td>49</td>\n",
              "      <td>No</td>\n",
              "      <td>Travel_Frequently</td>\n",
              "      <td>Research &amp; Development</td>\n",
              "      <td>8</td>\n",
              "      <td>1</td>\n",
              "      <td>Life Sciences</td>\n",
              "      <td>3</td>\n",
              "      <td>61</td>\n",
              "      <td>2</td>\n",
              "      <td>...</td>\n",
              "      <td>4</td>\n",
              "      <td>4</td>\n",
              "      <td>1</td>\n",
              "      <td>10</td>\n",
              "      <td>3</td>\n",
              "      <td>3</td>\n",
              "      <td>10</td>\n",
              "      <td>7</td>\n",
              "      <td>1</td>\n",
              "      <td>7</td>\n",
              "    </tr>\n",
              "    <tr>\n",
              "      <th>2</th>\n",
              "      <td>37</td>\n",
              "      <td>Yes</td>\n",
              "      <td>Travel_Rarely</td>\n",
              "      <td>Research &amp; Development</td>\n",
              "      <td>2</td>\n",
              "      <td>2</td>\n",
              "      <td>Other</td>\n",
              "      <td>4</td>\n",
              "      <td>92</td>\n",
              "      <td>2</td>\n",
              "      <td>...</td>\n",
              "      <td>3</td>\n",
              "      <td>2</td>\n",
              "      <td>0</td>\n",
              "      <td>7</td>\n",
              "      <td>3</td>\n",
              "      <td>3</td>\n",
              "      <td>0</td>\n",
              "      <td>0</td>\n",
              "      <td>0</td>\n",
              "      <td>0</td>\n",
              "    </tr>\n",
              "    <tr>\n",
              "      <th>3</th>\n",
              "      <td>33</td>\n",
              "      <td>No</td>\n",
              "      <td>Travel_Frequently</td>\n",
              "      <td>Research &amp; Development</td>\n",
              "      <td>3</td>\n",
              "      <td>4</td>\n",
              "      <td>Life Sciences</td>\n",
              "      <td>4</td>\n",
              "      <td>56</td>\n",
              "      <td>3</td>\n",
              "      <td>...</td>\n",
              "      <td>3</td>\n",
              "      <td>3</td>\n",
              "      <td>0</td>\n",
              "      <td>8</td>\n",
              "      <td>3</td>\n",
              "      <td>3</td>\n",
              "      <td>8</td>\n",
              "      <td>7</td>\n",
              "      <td>3</td>\n",
              "      <td>0</td>\n",
              "    </tr>\n",
              "    <tr>\n",
              "      <th>4</th>\n",
              "      <td>27</td>\n",
              "      <td>No</td>\n",
              "      <td>Travel_Rarely</td>\n",
              "      <td>Research &amp; Development</td>\n",
              "      <td>2</td>\n",
              "      <td>1</td>\n",
              "      <td>Medical</td>\n",
              "      <td>1</td>\n",
              "      <td>40</td>\n",
              "      <td>3</td>\n",
              "      <td>...</td>\n",
              "      <td>3</td>\n",
              "      <td>4</td>\n",
              "      <td>1</td>\n",
              "      <td>6</td>\n",
              "      <td>3</td>\n",
              "      <td>3</td>\n",
              "      <td>2</td>\n",
              "      <td>2</td>\n",
              "      <td>2</td>\n",
              "      <td>2</td>\n",
              "    </tr>\n",
              "  </tbody>\n",
              "</table>\n",
              "<p>5 rows × 27 columns</p>\n",
              "</div>"
            ],
            "text/plain": [
              "   Age Attrition     BusinessTravel              Department  DistanceFromHome  \\\n",
              "0   41       Yes      Travel_Rarely                   Sales                 1   \n",
              "1   49        No  Travel_Frequently  Research & Development                 8   \n",
              "2   37       Yes      Travel_Rarely  Research & Development                 2   \n",
              "3   33        No  Travel_Frequently  Research & Development                 3   \n",
              "4   27        No      Travel_Rarely  Research & Development                 2   \n",
              "\n",
              "   Education EducationField  EnvironmentSatisfaction  HourlyRate  \\\n",
              "0          2  Life Sciences                        2          94   \n",
              "1          1  Life Sciences                        3          61   \n",
              "2          2          Other                        4          92   \n",
              "3          4  Life Sciences                        4          56   \n",
              "4          1        Medical                        1          40   \n",
              "\n",
              "   JobInvolvement  ...  PerformanceRating RelationshipSatisfaction  \\\n",
              "0               3  ...                  3                        1   \n",
              "1               2  ...                  4                        4   \n",
              "2               2  ...                  3                        2   \n",
              "3               3  ...                  3                        3   \n",
              "4               3  ...                  3                        4   \n",
              "\n",
              "   StockOptionLevel TotalWorkingYears  TrainingTimesLastYear WorkLifeBalance  \\\n",
              "0                 0                 8                      0               1   \n",
              "1                 1                10                      3               3   \n",
              "2                 0                 7                      3               3   \n",
              "3                 0                 8                      3               3   \n",
              "4                 1                 6                      3               3   \n",
              "\n",
              "   YearsAtCompany  YearsInCurrentRole  YearsSinceLastPromotion  \\\n",
              "0               6                   4                        0   \n",
              "1              10                   7                        1   \n",
              "2               0                   0                        0   \n",
              "3               8                   7                        3   \n",
              "4               2                   2                        2   \n",
              "\n",
              "   YearsWithCurrManager  \n",
              "0                     5  \n",
              "1                     7  \n",
              "2                     0  \n",
              "3                     0  \n",
              "4                     2  \n",
              "\n",
              "[5 rows x 27 columns]"
            ]
          },
          "execution_count": 182,
          "metadata": {},
          "output_type": "execute_result"
        }
      ],
      "source": [
        "# Import our dependencies\n",
        "from sklearn.model_selection import train_test_split\n",
        "from sklearn.preprocessing import StandardScaler\n",
        "import pandas as pd\n",
        "import numpy as np\n",
        "from tensorflow.keras.models import Model\n",
        "from tensorflow.keras import layers\n",
        "from sklearn.preprocessing import LabelEncoder\n",
        "from sklearn.preprocessing import OneHotEncoder\n",
        "from sklearn.model_selection import train_test_split\n",
        "\n",
        "#  Import and read the attrition data\n",
        "attrition_df = pd.read_csv('https://static.bc-edx.com/ai/ail-v-1-0/m19/lms/datasets/attrition.csv')\n",
        "attrition_df.head()"
      ]
    },
    {
      "cell_type": "code",
      "execution_count": 183,
      "metadata": {
        "colab": {
          "base_uri": "https://localhost:8080/"
        },
        "id": "g22aQSY4Gc3Q",
        "outputId": "1f5c13c1-b981-4e40-a7ed-dd3fe6f1b81e"
      },
      "outputs": [
        {
          "data": {
            "text/plain": [
              "Age                         43\n",
              "Attrition                    2\n",
              "BusinessTravel               3\n",
              "Department                   3\n",
              "DistanceFromHome            29\n",
              "Education                    5\n",
              "EducationField               6\n",
              "EnvironmentSatisfaction      4\n",
              "HourlyRate                  71\n",
              "JobInvolvement               4\n",
              "JobLevel                     5\n",
              "JobRole                      9\n",
              "JobSatisfaction              4\n",
              "MaritalStatus                3\n",
              "NumCompaniesWorked          10\n",
              "OverTime                     2\n",
              "PercentSalaryHike           15\n",
              "PerformanceRating            2\n",
              "RelationshipSatisfaction     4\n",
              "StockOptionLevel             4\n",
              "TotalWorkingYears           40\n",
              "TrainingTimesLastYear        7\n",
              "WorkLifeBalance              4\n",
              "YearsAtCompany              37\n",
              "YearsInCurrentRole          19\n",
              "YearsSinceLastPromotion     16\n",
              "YearsWithCurrManager        18\n",
              "dtype: int64"
            ]
          },
          "execution_count": 183,
          "metadata": {},
          "output_type": "execute_result"
        }
      ],
      "source": [
        "# Determine the number of unique values in each column.\n",
        "attrition_df.nunique()"
      ]
    },
    {
      "cell_type": "code",
      "execution_count": 184,
      "metadata": {},
      "outputs": [
        {
          "data": {
            "text/plain": [
              "Index(['Age', 'Attrition', 'BusinessTravel', 'Department', 'DistanceFromHome',\n",
              "       'Education', 'EducationField', 'EnvironmentSatisfaction', 'HourlyRate',\n",
              "       'JobInvolvement', 'JobLevel', 'JobRole', 'JobSatisfaction',\n",
              "       'MaritalStatus', 'NumCompaniesWorked', 'OverTime', 'PercentSalaryHike',\n",
              "       'PerformanceRating', 'RelationshipSatisfaction', 'StockOptionLevel',\n",
              "       'TotalWorkingYears', 'TrainingTimesLastYear', 'WorkLifeBalance',\n",
              "       'YearsAtCompany', 'YearsInCurrentRole', 'YearsSinceLastPromotion',\n",
              "       'YearsWithCurrManager'],\n",
              "      dtype='object')"
            ]
          },
          "execution_count": 184,
          "metadata": {},
          "output_type": "execute_result"
        }
      ],
      "source": [
        "attrition_df.columns"
      ]
    },
    {
      "cell_type": "code",
      "execution_count": 185,
      "metadata": {
        "id": "50vMgBEnJbfM"
      },
      "outputs": [],
      "source": [
        "# Create y_df with the Attrition and Department columns\n",
        "\n",
        "y_df = attrition_df[['Attrition', 'Department']]"
      ]
    },
    {
      "cell_type": "code",
      "execution_count": 186,
      "metadata": {},
      "outputs": [
        {
          "data": {
            "text/plain": [
              "Attrition\n",
              "No     1233\n",
              "Yes     237\n",
              "Name: count, dtype: int64"
            ]
          },
          "execution_count": 186,
          "metadata": {},
          "output_type": "execute_result"
        }
      ],
      "source": [
        "y_df['Attrition'].value_counts()"
      ]
    },
    {
      "cell_type": "code",
      "execution_count": 187,
      "metadata": {},
      "outputs": [
        {
          "data": {
            "text/plain": [
              "Department\n",
              "Research & Development    961\n",
              "Sales                     446\n",
              "Human Resources            63\n",
              "Name: count, dtype: int64"
            ]
          },
          "execution_count": 187,
          "metadata": {},
          "output_type": "execute_result"
        }
      ],
      "source": [
        "y_df['Department'].value_counts()"
      ]
    },
    {
      "cell_type": "code",
      "execution_count": 188,
      "metadata": {},
      "outputs": [],
      "source": [
        "# The Attrition and Department parameters are not balanced."
      ]
    },
    {
      "cell_type": "code",
      "execution_count": 189,
      "metadata": {
        "colab": {
          "base_uri": "https://localhost:8080/"
        },
        "id": "Virka0zLGc3R",
        "outputId": "dd5aee3a-9458-4ba6-e857-1b234de40915"
      },
      "outputs": [
        {
          "data": {
            "text/plain": [
              "Age                         int64\n",
              "DistanceFromHome            int64\n",
              "YearsAtCompany              int64\n",
              "YearsSinceLastPromotion     int64\n",
              "Education                   int64\n",
              "JobSatisfaction             int64\n",
              "OverTime                   object\n",
              "StockOptionLevel            int64\n",
              "WorkLifeBalance             int64\n",
              "NumCompaniesWorked          int64\n",
              "MaritalStatus              object\n",
              "dtype: object"
            ]
          },
          "execution_count": 189,
          "metadata": {},
          "output_type": "execute_result"
        }
      ],
      "source": [
        "# Create a list of at least 10 column names to use as X data\n",
        "\n",
        "X_selected = ['Age', 'DistanceFromHome', 'YearsAtCompany', 'YearsSinceLastPromotion', 'Education', 'JobSatisfaction', 'OverTime', 'StockOptionLevel', 'WorkLifeBalance',\n",
        "        'NumCompaniesWorked', 'MaritalStatus']\n",
        "\n",
        "# Create X_df using your selected columns\n",
        "X_df = attrition_df[X_selected]\n",
        "\n",
        "# Show the data types for X_df\n",
        "X_df.dtypes\n"
      ]
    },
    {
      "cell_type": "code",
      "execution_count": 190,
      "metadata": {
        "id": "KaJfdOGUMHMR"
      },
      "outputs": [],
      "source": [
        "# Split the data into training and testing sets\n",
        "\n",
        "X_train, X_test, y_train, y_test = train_test_split(X_df, y_df)"
      ]
    },
    {
      "cell_type": "code",
      "execution_count": 191,
      "metadata": {},
      "outputs": [
        {
          "data": {
            "text/plain": [
              "OverTime\n",
              "No     1054\n",
              "Yes     416\n",
              "Name: count, dtype: int64"
            ]
          },
          "execution_count": 191,
          "metadata": {},
          "output_type": "execute_result"
        }
      ],
      "source": [
        "X_df['OverTime'].value_counts()"
      ]
    },
    {
      "cell_type": "code",
      "execution_count": 192,
      "metadata": {},
      "outputs": [
        {
          "name": "stdout",
          "output_type": "stream",
          "text": [
            "OverTime\n",
            "No     1054\n",
            "Yes     416\n",
            "Name: count, dtype: int64\n",
            "MaritalStatus\n",
            "Married     673\n",
            "Single      470\n",
            "Divorced    327\n",
            "Name: count, dtype: int64\n"
          ]
        }
      ],
      "source": [
        "#Collect non-numerics\n",
        "\n",
        "non_num_df = X_df.select_dtypes(include=object)\n",
        "\n",
        "for column in non_num_df.columns:\n",
        "    print(non_num_df[column].value_counts())"
      ]
    },
    {
      "cell_type": "code",
      "execution_count": 193,
      "metadata": {},
      "outputs": [
        {
          "data": {
            "text/plain": [
              "Index(['OverTime', 'MaritalStatus'], dtype='object')"
            ]
          },
          "execution_count": 193,
          "metadata": {},
          "output_type": "execute_result"
        }
      ],
      "source": [
        "non_num_df.columns"
      ]
    },
    {
      "cell_type": "code",
      "execution_count": 194,
      "metadata": {},
      "outputs": [
        {
          "data": {
            "text/plain": [
              "MaritalStatus\n",
              "Married     673\n",
              "Single      470\n",
              "Divorced    327\n",
              "Name: count, dtype: int64"
            ]
          },
          "execution_count": 194,
          "metadata": {},
          "output_type": "execute_result"
        }
      ],
      "source": [
        "non_num_df[column].value_counts()\n"
      ]
    },
    {
      "cell_type": "code",
      "execution_count": 195,
      "metadata": {},
      "outputs": [],
      "source": [
        "# This datafram requires any order needed. OneHotEncoder would be suitable.\n"
      ]
    },
    {
      "cell_type": "code",
      "execution_count": 196,
      "metadata": {
        "colab": {
          "base_uri": "https://localhost:8080/"
        },
        "id": "NYubUJqiLCSp",
        "outputId": "53f31721-571c-4c94-d13e-25a715749593"
      },
      "outputs": [],
      "source": [
        "# Convert your X data to numeric data types however you see fit\n",
        "# Add new code cells as necessary\n",
        "def encode_feature(feature):\n",
        "\n",
        "    if len(feature.value_counts()) == 2:\n",
        "        feature_encoder = OneHotEncoder(sparse_output=False, drop='first')\n",
        "    else:\n",
        "        feature_encoder = OneHotEncoder(sparse_output=False)\n",
        "    \n",
        "    feature_encoded = feature_encoder.fit_transform(feature)\n",
        "    \n",
        "    feature_columns = feature_encoder.get_feature_names_out([feature.columns[0]])\n",
        "\n",
        "    return pd.DataFrame(feature_encoded, columns=feature_columns)"
      ]
    },
    {
      "cell_type": "code",
      "execution_count": 197,
      "metadata": {},
      "outputs": [],
      "source": [
        "#X_selected = ['Age', 'DistanceFromHome', 'YearsAtCompany', 'YearsSinceLastPromotion', 'Education', 'JobSatisfaction', 'OverTime', 'StockOptionLevel', 'WorkLifeBalance',\n",
        " #       'NumCompaniesWorked', 'MaritalStatus']\n"
      ]
    },
    {
      "cell_type": "code",
      "execution_count": 198,
      "metadata": {},
      "outputs": [
        {
          "data": {
            "text/html": [
              "<div>\n",
              "<style scoped>\n",
              "    .dataframe tbody tr th:only-of-type {\n",
              "        vertical-align: middle;\n",
              "    }\n",
              "\n",
              "    .dataframe tbody tr th {\n",
              "        vertical-align: top;\n",
              "    }\n",
              "\n",
              "    .dataframe thead th {\n",
              "        text-align: right;\n",
              "    }\n",
              "</style>\n",
              "<table border=\"1\" class=\"dataframe\">\n",
              "  <thead>\n",
              "    <tr style=\"text-align: right;\">\n",
              "      <th></th>\n",
              "      <th>Age</th>\n",
              "      <th>DistanceFromHome</th>\n",
              "      <th>YearsAtCompany</th>\n",
              "      <th>YearsSinceLastPromotion</th>\n",
              "      <th>Education</th>\n",
              "      <th>JobSatisfaction</th>\n",
              "      <th>StockOptionLevel</th>\n",
              "      <th>WorkLifeBalance</th>\n",
              "      <th>NumCompaniesWorked</th>\n",
              "      <th>OverTime_Yes</th>\n",
              "      <th>MaritalStatus_Divorced</th>\n",
              "      <th>MaritalStatus_Married</th>\n",
              "      <th>MaritalStatus_Single</th>\n",
              "    </tr>\n",
              "  </thead>\n",
              "  <tbody>\n",
              "    <tr>\n",
              "      <th>0</th>\n",
              "      <td>41</td>\n",
              "      <td>1</td>\n",
              "      <td>6</td>\n",
              "      <td>0</td>\n",
              "      <td>2</td>\n",
              "      <td>4</td>\n",
              "      <td>0</td>\n",
              "      <td>1</td>\n",
              "      <td>8</td>\n",
              "      <td>1.0</td>\n",
              "      <td>0.0</td>\n",
              "      <td>0.0</td>\n",
              "      <td>1.0</td>\n",
              "    </tr>\n",
              "    <tr>\n",
              "      <th>1</th>\n",
              "      <td>49</td>\n",
              "      <td>8</td>\n",
              "      <td>10</td>\n",
              "      <td>1</td>\n",
              "      <td>1</td>\n",
              "      <td>2</td>\n",
              "      <td>1</td>\n",
              "      <td>3</td>\n",
              "      <td>1</td>\n",
              "      <td>0.0</td>\n",
              "      <td>0.0</td>\n",
              "      <td>1.0</td>\n",
              "      <td>0.0</td>\n",
              "    </tr>\n",
              "    <tr>\n",
              "      <th>2</th>\n",
              "      <td>37</td>\n",
              "      <td>2</td>\n",
              "      <td>0</td>\n",
              "      <td>0</td>\n",
              "      <td>2</td>\n",
              "      <td>3</td>\n",
              "      <td>0</td>\n",
              "      <td>3</td>\n",
              "      <td>6</td>\n",
              "      <td>1.0</td>\n",
              "      <td>0.0</td>\n",
              "      <td>0.0</td>\n",
              "      <td>1.0</td>\n",
              "    </tr>\n",
              "    <tr>\n",
              "      <th>3</th>\n",
              "      <td>33</td>\n",
              "      <td>3</td>\n",
              "      <td>8</td>\n",
              "      <td>3</td>\n",
              "      <td>4</td>\n",
              "      <td>3</td>\n",
              "      <td>0</td>\n",
              "      <td>3</td>\n",
              "      <td>1</td>\n",
              "      <td>1.0</td>\n",
              "      <td>0.0</td>\n",
              "      <td>1.0</td>\n",
              "      <td>0.0</td>\n",
              "    </tr>\n",
              "    <tr>\n",
              "      <th>4</th>\n",
              "      <td>27</td>\n",
              "      <td>2</td>\n",
              "      <td>2</td>\n",
              "      <td>2</td>\n",
              "      <td>1</td>\n",
              "      <td>2</td>\n",
              "      <td>1</td>\n",
              "      <td>3</td>\n",
              "      <td>9</td>\n",
              "      <td>0.0</td>\n",
              "      <td>0.0</td>\n",
              "      <td>1.0</td>\n",
              "      <td>0.0</td>\n",
              "    </tr>\n",
              "  </tbody>\n",
              "</table>\n",
              "</div>"
            ],
            "text/plain": [
              "   Age  DistanceFromHome  YearsAtCompany  YearsSinceLastPromotion  Education  \\\n",
              "0   41                 1               6                        0          2   \n",
              "1   49                 8              10                        1          1   \n",
              "2   37                 2               0                        0          2   \n",
              "3   33                 3               8                        3          4   \n",
              "4   27                 2               2                        2          1   \n",
              "\n",
              "   JobSatisfaction  StockOptionLevel  WorkLifeBalance  NumCompaniesWorked  \\\n",
              "0                4                 0                1                   8   \n",
              "1                2                 1                3                   1   \n",
              "2                3                 0                3                   6   \n",
              "3                3                 0                3                   1   \n",
              "4                2                 1                3                   9   \n",
              "\n",
              "   OverTime_Yes  MaritalStatus_Divorced  MaritalStatus_Married  \\\n",
              "0           1.0                     0.0                    0.0   \n",
              "1           0.0                     0.0                    1.0   \n",
              "2           1.0                     0.0                    0.0   \n",
              "3           1.0                     0.0                    1.0   \n",
              "4           0.0                     0.0                    1.0   \n",
              "\n",
              "   MaritalStatus_Single  \n",
              "0                   1.0  \n",
              "1                   0.0  \n",
              "2                   1.0  \n",
              "3                   0.0  \n",
              "4                   0.0  "
            ]
          },
          "metadata": {},
          "output_type": "display_data"
        },
        {
          "data": {
            "text/plain": [
              "Age                          int64\n",
              "DistanceFromHome             int64\n",
              "YearsAtCompany               int64\n",
              "YearsSinceLastPromotion      int64\n",
              "Education                    int64\n",
              "JobSatisfaction              int64\n",
              "StockOptionLevel             int64\n",
              "WorkLifeBalance              int64\n",
              "NumCompaniesWorked           int64\n",
              "OverTime_Yes               float64\n",
              "MaritalStatus_Divorced     float64\n",
              "MaritalStatus_Married      float64\n",
              "MaritalStatus_Single       float64\n",
              "dtype: object"
            ]
          },
          "metadata": {},
          "output_type": "display_data"
        }
      ],
      "source": [
        "X_encoded_df = X_df.copy()\n",
        "\n",
        "for column in non_num_df.columns:\n",
        "    feature = non_num_df[[column]]\n",
        "\n",
        "    X_encoded_df = pd.concat([X_encoded_df, encode_feature(feature)], axis=1)\n",
        "    #drop the unencoded column\n",
        "    X_encoded_df.drop(columns=column, inplace=True)\n",
        "\n",
        "display(X_encoded_df.head())\n",
        "display(X_encoded_df.dtypes)\n"
      ]
    },
    {
      "cell_type": "code",
      "execution_count": 199,
      "metadata": {},
      "outputs": [],
      "source": [
        "#column"
      ]
    },
    {
      "cell_type": "code",
      "execution_count": 200,
      "metadata": {},
      "outputs": [],
      "source": [
        "#feature.value_counts()"
      ]
    },
    {
      "cell_type": "code",
      "execution_count": 201,
      "metadata": {},
      "outputs": [],
      "source": [
        "#X_encoded_df = pd.concat([X_encoded_df, encode_feature(feature)], axis=1)\n",
        "#X_encoded_df"
      ]
    },
    {
      "cell_type": "code",
      "execution_count": 202,
      "metadata": {},
      "outputs": [
        {
          "data": {
            "text/html": [
              "<div>\n",
              "<style scoped>\n",
              "    .dataframe tbody tr th:only-of-type {\n",
              "        vertical-align: middle;\n",
              "    }\n",
              "\n",
              "    .dataframe tbody tr th {\n",
              "        vertical-align: top;\n",
              "    }\n",
              "\n",
              "    .dataframe thead th {\n",
              "        text-align: right;\n",
              "    }\n",
              "</style>\n",
              "<table border=\"1\" class=\"dataframe\">\n",
              "  <thead>\n",
              "    <tr style=\"text-align: right;\">\n",
              "      <th></th>\n",
              "      <th>Attrition_Yes</th>\n",
              "      <th>Department_Human Resources</th>\n",
              "      <th>Department_Research &amp; Development</th>\n",
              "      <th>Department_Sales</th>\n",
              "    </tr>\n",
              "  </thead>\n",
              "  <tbody>\n",
              "    <tr>\n",
              "      <th>0</th>\n",
              "      <td>1.0</td>\n",
              "      <td>0.0</td>\n",
              "      <td>0.0</td>\n",
              "      <td>1.0</td>\n",
              "    </tr>\n",
              "    <tr>\n",
              "      <th>1</th>\n",
              "      <td>0.0</td>\n",
              "      <td>0.0</td>\n",
              "      <td>1.0</td>\n",
              "      <td>0.0</td>\n",
              "    </tr>\n",
              "    <tr>\n",
              "      <th>2</th>\n",
              "      <td>1.0</td>\n",
              "      <td>0.0</td>\n",
              "      <td>1.0</td>\n",
              "      <td>0.0</td>\n",
              "    </tr>\n",
              "    <tr>\n",
              "      <th>3</th>\n",
              "      <td>0.0</td>\n",
              "      <td>0.0</td>\n",
              "      <td>1.0</td>\n",
              "      <td>0.0</td>\n",
              "    </tr>\n",
              "    <tr>\n",
              "      <th>4</th>\n",
              "      <td>0.0</td>\n",
              "      <td>0.0</td>\n",
              "      <td>1.0</td>\n",
              "      <td>0.0</td>\n",
              "    </tr>\n",
              "  </tbody>\n",
              "</table>\n",
              "</div>"
            ],
            "text/plain": [
              "   Attrition_Yes  Department_Human Resources  \\\n",
              "0            1.0                         0.0   \n",
              "1            0.0                         0.0   \n",
              "2            1.0                         0.0   \n",
              "3            0.0                         0.0   \n",
              "4            0.0                         0.0   \n",
              "\n",
              "   Department_Research & Development  Department_Sales  \n",
              "0                                0.0               1.0  \n",
              "1                                1.0               0.0  \n",
              "2                                1.0               0.0  \n",
              "3                                1.0               0.0  \n",
              "4                                1.0               0.0  "
            ]
          },
          "metadata": {},
          "output_type": "display_data"
        },
        {
          "data": {
            "text/plain": [
              "Attrition_Yes                        float64\n",
              "Department_Human Resources           float64\n",
              "Department_Research & Development    float64\n",
              "Department_Sales                     float64\n",
              "dtype: object"
            ]
          },
          "metadata": {},
          "output_type": "display_data"
        }
      ],
      "source": [
        "y_encoded = y_df.copy()\n",
        "\n",
        "for column in y_df.columns:\n",
        "    feature = y_df[[column]]\n",
        "\n",
        "    y_encoded = pd.concat([y_encoded, encode_feature(feature)], axis=1)\n",
        "    y_encoded.drop(columns=column, inplace=True)\n",
        "\n",
        "display(y_encoded.head())\n",
        "display(y_encoded.dtypes)\n"
      ]
    },
    {
      "cell_type": "code",
      "execution_count": 203,
      "metadata": {},
      "outputs": [
        {
          "data": {
            "text/html": [
              "<div>\n",
              "<style scoped>\n",
              "    .dataframe tbody tr th:only-of-type {\n",
              "        vertical-align: middle;\n",
              "    }\n",
              "\n",
              "    .dataframe tbody tr th {\n",
              "        vertical-align: top;\n",
              "    }\n",
              "\n",
              "    .dataframe thead th {\n",
              "        text-align: right;\n",
              "    }\n",
              "</style>\n",
              "<table border=\"1\" class=\"dataframe\">\n",
              "  <thead>\n",
              "    <tr style=\"text-align: right;\">\n",
              "      <th></th>\n",
              "      <th>Attrition</th>\n",
              "    </tr>\n",
              "  </thead>\n",
              "  <tbody>\n",
              "    <tr>\n",
              "      <th>0</th>\n",
              "      <td>1.0</td>\n",
              "    </tr>\n",
              "    <tr>\n",
              "      <th>1</th>\n",
              "      <td>0.0</td>\n",
              "    </tr>\n",
              "    <tr>\n",
              "      <th>2</th>\n",
              "      <td>1.0</td>\n",
              "    </tr>\n",
              "    <tr>\n",
              "      <th>3</th>\n",
              "      <td>0.0</td>\n",
              "    </tr>\n",
              "    <tr>\n",
              "      <th>4</th>\n",
              "      <td>0.0</td>\n",
              "    </tr>\n",
              "    <tr>\n",
              "      <th>...</th>\n",
              "      <td>...</td>\n",
              "    </tr>\n",
              "    <tr>\n",
              "      <th>1465</th>\n",
              "      <td>0.0</td>\n",
              "    </tr>\n",
              "    <tr>\n",
              "      <th>1466</th>\n",
              "      <td>0.0</td>\n",
              "    </tr>\n",
              "    <tr>\n",
              "      <th>1467</th>\n",
              "      <td>0.0</td>\n",
              "    </tr>\n",
              "    <tr>\n",
              "      <th>1468</th>\n",
              "      <td>0.0</td>\n",
              "    </tr>\n",
              "    <tr>\n",
              "      <th>1469</th>\n",
              "      <td>0.0</td>\n",
              "    </tr>\n",
              "  </tbody>\n",
              "</table>\n",
              "<p>1470 rows × 1 columns</p>\n",
              "</div>"
            ],
            "text/plain": [
              "      Attrition\n",
              "0           1.0\n",
              "1           0.0\n",
              "2           1.0\n",
              "3           0.0\n",
              "4           0.0\n",
              "...         ...\n",
              "1465        0.0\n",
              "1466        0.0\n",
              "1467        0.0\n",
              "1468        0.0\n",
              "1469        0.0\n",
              "\n",
              "[1470 rows x 1 columns]"
            ]
          },
          "execution_count": 203,
          "metadata": {},
          "output_type": "execute_result"
        }
      ],
      "source": [
        "y_Attrition = y_encoded[['Attrition_Yes']].rename(columns={'Attrition_Yes': 'Attrition'})\n",
        "y_Attrition"
      ]
    },
    {
      "cell_type": "code",
      "execution_count": 204,
      "metadata": {},
      "outputs": [
        {
          "data": {
            "text/html": [
              "<div>\n",
              "<style scoped>\n",
              "    .dataframe tbody tr th:only-of-type {\n",
              "        vertical-align: middle;\n",
              "    }\n",
              "\n",
              "    .dataframe tbody tr th {\n",
              "        vertical-align: top;\n",
              "    }\n",
              "\n",
              "    .dataframe thead th {\n",
              "        text-align: right;\n",
              "    }\n",
              "</style>\n",
              "<table border=\"1\" class=\"dataframe\">\n",
              "  <thead>\n",
              "    <tr style=\"text-align: right;\">\n",
              "      <th></th>\n",
              "      <th>Department_Human Resources</th>\n",
              "      <th>Department_Research &amp; Development</th>\n",
              "      <th>Department_Sales</th>\n",
              "    </tr>\n",
              "  </thead>\n",
              "  <tbody>\n",
              "    <tr>\n",
              "      <th>0</th>\n",
              "      <td>0.0</td>\n",
              "      <td>0.0</td>\n",
              "      <td>1.0</td>\n",
              "    </tr>\n",
              "    <tr>\n",
              "      <th>1</th>\n",
              "      <td>0.0</td>\n",
              "      <td>1.0</td>\n",
              "      <td>0.0</td>\n",
              "    </tr>\n",
              "    <tr>\n",
              "      <th>2</th>\n",
              "      <td>0.0</td>\n",
              "      <td>1.0</td>\n",
              "      <td>0.0</td>\n",
              "    </tr>\n",
              "    <tr>\n",
              "      <th>3</th>\n",
              "      <td>0.0</td>\n",
              "      <td>1.0</td>\n",
              "      <td>0.0</td>\n",
              "    </tr>\n",
              "    <tr>\n",
              "      <th>4</th>\n",
              "      <td>0.0</td>\n",
              "      <td>1.0</td>\n",
              "      <td>0.0</td>\n",
              "    </tr>\n",
              "    <tr>\n",
              "      <th>...</th>\n",
              "      <td>...</td>\n",
              "      <td>...</td>\n",
              "      <td>...</td>\n",
              "    </tr>\n",
              "    <tr>\n",
              "      <th>1465</th>\n",
              "      <td>0.0</td>\n",
              "      <td>1.0</td>\n",
              "      <td>0.0</td>\n",
              "    </tr>\n",
              "    <tr>\n",
              "      <th>1466</th>\n",
              "      <td>0.0</td>\n",
              "      <td>1.0</td>\n",
              "      <td>0.0</td>\n",
              "    </tr>\n",
              "    <tr>\n",
              "      <th>1467</th>\n",
              "      <td>0.0</td>\n",
              "      <td>1.0</td>\n",
              "      <td>0.0</td>\n",
              "    </tr>\n",
              "    <tr>\n",
              "      <th>1468</th>\n",
              "      <td>0.0</td>\n",
              "      <td>0.0</td>\n",
              "      <td>1.0</td>\n",
              "    </tr>\n",
              "    <tr>\n",
              "      <th>1469</th>\n",
              "      <td>0.0</td>\n",
              "      <td>1.0</td>\n",
              "      <td>0.0</td>\n",
              "    </tr>\n",
              "  </tbody>\n",
              "</table>\n",
              "<p>1470 rows × 3 columns</p>\n",
              "</div>"
            ],
            "text/plain": [
              "      Department_Human Resources  Department_Research & Development  \\\n",
              "0                            0.0                                0.0   \n",
              "1                            0.0                                1.0   \n",
              "2                            0.0                                1.0   \n",
              "3                            0.0                                1.0   \n",
              "4                            0.0                                1.0   \n",
              "...                          ...                                ...   \n",
              "1465                         0.0                                1.0   \n",
              "1466                         0.0                                1.0   \n",
              "1467                         0.0                                1.0   \n",
              "1468                         0.0                                0.0   \n",
              "1469                         0.0                                1.0   \n",
              "\n",
              "      Department_Sales  \n",
              "0                  1.0  \n",
              "1                  0.0  \n",
              "2                  0.0  \n",
              "3                  0.0  \n",
              "4                  0.0  \n",
              "...                ...  \n",
              "1465               0.0  \n",
              "1466               0.0  \n",
              "1467               0.0  \n",
              "1468               1.0  \n",
              "1469               0.0  \n",
              "\n",
              "[1470 rows x 3 columns]"
            ]
          },
          "execution_count": 204,
          "metadata": {},
          "output_type": "execute_result"
        }
      ],
      "source": [
        "# split into 2 separate targets\n",
        "\n",
        "y_Department = y_encoded[['Department_Human Resources', 'Department_Research & Development', 'Department_Sales']]\n",
        "y_Department"
      ]
    },
    {
      "cell_type": "code",
      "execution_count": 214,
      "metadata": {},
      "outputs": [],
      "source": [
        "X_train, X_test, y_Department_train, y_Department_test, y_Attrition_train, y_Attrition_test= train_test_split(X_encoded_df, y_Department, y_Attrition, random_state=1)\n"
      ]
    },
    {
      "cell_type": "code",
      "execution_count": 206,
      "metadata": {
        "id": "EWA-aIA5Gc3T"
      },
      "outputs": [],
      "source": [
        "# Create a StandardScaler\n",
        "scaler = StandardScaler()\n",
        "\n",
        "# Fit the StandardScaler to the training data\n",
        "scaler.fit(X_train)\n",
        "# Scale the training and testing data\n",
        "\n",
        "X_train_scaled = scaler.transform(X_train)\n",
        "X_test_scaled = scaler.transform(X_test)"
      ]
    },
    {
      "cell_type": "markdown",
      "metadata": {
        "id": "ykNmu_WWGc3T"
      },
      "source": [
        "## Create, Compile, and Train the Model"
      ]
    },
    {
      "cell_type": "code",
      "execution_count": 215,
      "metadata": {
        "colab": {
          "base_uri": "https://localhost:8080/"
        },
        "id": "-z0Mky8vQSz4",
        "outputId": "debefc85-c20b-48f5-f4d9-91eadd65d36a"
      },
      "outputs": [],
      "source": [
        "# Create a OneHotEncoder for the Department column\n",
        "input_nodes = len(X_train.columns)\n",
        "\n",
        "# Fit the encoder to the training data\n",
        "input_layer = layers.Input(shape=(input_nodes,), name='input_layer')\n",
        "\n",
        "# Create two new variables by applying the encoder\n",
        "shared1 = layers.Dense(64, activation='relu')(input_layer)\n",
        "shared2 = layers.Dense(128, activation='relu')(shared1)\n",
        "# to the training and testing data"
      ]
    },
    {
      "cell_type": "code",
      "execution_count": 216,
      "metadata": {},
      "outputs": [],
      "source": [
        "Department_hidden = layers.Dense(32, activation='relu')(shared2)\n",
        "\n",
        "Department_output = layers.Dense(3, activation='softmax', name='Department_out')(Department_hidden)"
      ]
    },
    {
      "cell_type": "code",
      "execution_count": 217,
      "metadata": {
        "colab": {
          "base_uri": "https://localhost:8080/"
        },
        "id": "-G4DSpvFRrk4",
        "outputId": "9842e948-8a55-4b80-8fac-f96714e85589"
      },
      "outputs": [],
      "source": [
        "# Create attrition branch\n",
        "# Create the hidden layer\n",
        "Attrition_hidden = layers.Dense(32, activation='relu')(shared2)\n",
        "\n",
        "# Create the output layer\n",
        "Attrition_output = layers.Dense(1, activation='sigmoid', name='Attrition_out')(Attrition_hidden)"
      ]
    },
    {
      "cell_type": "code",
      "execution_count": 227,
      "metadata": {
        "id": "WUptZqmSGc3T"
      },
      "outputs": [
        {
          "data": {
            "text/html": [
              "<pre style=\"white-space:pre;overflow-x:auto;line-height:normal;font-family:Menlo,'DejaVu Sans Mono',consolas,'Courier New',monospace\"><span style=\"font-weight: bold\">Model: \"functional_23\"</span>\n",
              "</pre>\n"
            ],
            "text/plain": [
              "\u001b[1mModel: \"functional_23\"\u001b[0m\n"
            ]
          },
          "metadata": {},
          "output_type": "display_data"
        },
        {
          "data": {
            "text/html": [
              "<pre style=\"white-space:pre;overflow-x:auto;line-height:normal;font-family:Menlo,'DejaVu Sans Mono',consolas,'Courier New',monospace\">┏━━━━━━━━━━━━━━━━━━━━━┳━━━━━━━━━━━━━━━━━━━┳━━━━━━━━━━━━┳━━━━━━━━━━━━━━━━━━━┓\n",
              "┃<span style=\"font-weight: bold\"> Layer (type)        </span>┃<span style=\"font-weight: bold\"> Output Shape      </span>┃<span style=\"font-weight: bold\">    Param # </span>┃<span style=\"font-weight: bold\"> Connected to      </span>┃\n",
              "┡━━━━━━━━━━━━━━━━━━━━━╇━━━━━━━━━━━━━━━━━━━╇━━━━━━━━━━━━╇━━━━━━━━━━━━━━━━━━━┩\n",
              "│ input_layer         │ (<span style=\"color: #00d7ff; text-decoration-color: #00d7ff\">None</span>, <span style=\"color: #00af00; text-decoration-color: #00af00\">13</span>)        │          <span style=\"color: #00af00; text-decoration-color: #00af00\">0</span> │ -                 │\n",
              "│ (<span style=\"color: #0087ff; text-decoration-color: #0087ff\">InputLayer</span>)        │                   │            │                   │\n",
              "├─────────────────────┼───────────────────┼────────────┼───────────────────┤\n",
              "│ dense_8 (<span style=\"color: #0087ff; text-decoration-color: #0087ff\">Dense</span>)     │ (<span style=\"color: #00d7ff; text-decoration-color: #00d7ff\">None</span>, <span style=\"color: #00af00; text-decoration-color: #00af00\">64</span>)        │        <span style=\"color: #00af00; text-decoration-color: #00af00\">896</span> │ input_layer[<span style=\"color: #00af00; text-decoration-color: #00af00\">0</span>][<span style=\"color: #00af00; text-decoration-color: #00af00\">0</span>] │\n",
              "├─────────────────────┼───────────────────┼────────────┼───────────────────┤\n",
              "│ dense_9 (<span style=\"color: #0087ff; text-decoration-color: #0087ff\">Dense</span>)     │ (<span style=\"color: #00d7ff; text-decoration-color: #00d7ff\">None</span>, <span style=\"color: #00af00; text-decoration-color: #00af00\">128</span>)       │      <span style=\"color: #00af00; text-decoration-color: #00af00\">8,320</span> │ dense_8[<span style=\"color: #00af00; text-decoration-color: #00af00\">0</span>][<span style=\"color: #00af00; text-decoration-color: #00af00\">0</span>]     │\n",
              "├─────────────────────┼───────────────────┼────────────┼───────────────────┤\n",
              "│ dense_10 (<span style=\"color: #0087ff; text-decoration-color: #0087ff\">Dense</span>)    │ (<span style=\"color: #00d7ff; text-decoration-color: #00d7ff\">None</span>, <span style=\"color: #00af00; text-decoration-color: #00af00\">32</span>)        │      <span style=\"color: #00af00; text-decoration-color: #00af00\">4,128</span> │ dense_9[<span style=\"color: #00af00; text-decoration-color: #00af00\">0</span>][<span style=\"color: #00af00; text-decoration-color: #00af00\">0</span>]     │\n",
              "├─────────────────────┼───────────────────┼────────────┼───────────────────┤\n",
              "│ dense_11 (<span style=\"color: #0087ff; text-decoration-color: #0087ff\">Dense</span>)    │ (<span style=\"color: #00d7ff; text-decoration-color: #00d7ff\">None</span>, <span style=\"color: #00af00; text-decoration-color: #00af00\">32</span>)        │      <span style=\"color: #00af00; text-decoration-color: #00af00\">4,128</span> │ dense_9[<span style=\"color: #00af00; text-decoration-color: #00af00\">0</span>][<span style=\"color: #00af00; text-decoration-color: #00af00\">0</span>]     │\n",
              "├─────────────────────┼───────────────────┼────────────┼───────────────────┤\n",
              "│ Department_out      │ (<span style=\"color: #00d7ff; text-decoration-color: #00d7ff\">None</span>, <span style=\"color: #00af00; text-decoration-color: #00af00\">3</span>)         │         <span style=\"color: #00af00; text-decoration-color: #00af00\">99</span> │ dense_10[<span style=\"color: #00af00; text-decoration-color: #00af00\">0</span>][<span style=\"color: #00af00; text-decoration-color: #00af00\">0</span>]    │\n",
              "│ (<span style=\"color: #0087ff; text-decoration-color: #0087ff\">Dense</span>)             │                   │            │                   │\n",
              "├─────────────────────┼───────────────────┼────────────┼───────────────────┤\n",
              "│ Attrition_out       │ (<span style=\"color: #00d7ff; text-decoration-color: #00d7ff\">None</span>, <span style=\"color: #00af00; text-decoration-color: #00af00\">1</span>)         │         <span style=\"color: #00af00; text-decoration-color: #00af00\">33</span> │ dense_11[<span style=\"color: #00af00; text-decoration-color: #00af00\">0</span>][<span style=\"color: #00af00; text-decoration-color: #00af00\">0</span>]    │\n",
              "│ (<span style=\"color: #0087ff; text-decoration-color: #0087ff\">Dense</span>)             │                   │            │                   │\n",
              "└─────────────────────┴───────────────────┴────────────┴───────────────────┘\n",
              "</pre>\n"
            ],
            "text/plain": [
              "┏━━━━━━━━━━━━━━━━━━━━━┳━━━━━━━━━━━━━━━━━━━┳━━━━━━━━━━━━┳━━━━━━━━━━━━━━━━━━━┓\n",
              "┃\u001b[1m \u001b[0m\u001b[1mLayer (type)       \u001b[0m\u001b[1m \u001b[0m┃\u001b[1m \u001b[0m\u001b[1mOutput Shape     \u001b[0m\u001b[1m \u001b[0m┃\u001b[1m \u001b[0m\u001b[1m   Param #\u001b[0m\u001b[1m \u001b[0m┃\u001b[1m \u001b[0m\u001b[1mConnected to     \u001b[0m\u001b[1m \u001b[0m┃\n",
              "┡━━━━━━━━━━━━━━━━━━━━━╇━━━━━━━━━━━━━━━━━━━╇━━━━━━━━━━━━╇━━━━━━━━━━━━━━━━━━━┩\n",
              "│ input_layer         │ (\u001b[38;5;45mNone\u001b[0m, \u001b[38;5;34m13\u001b[0m)        │          \u001b[38;5;34m0\u001b[0m │ -                 │\n",
              "│ (\u001b[38;5;33mInputLayer\u001b[0m)        │                   │            │                   │\n",
              "├─────────────────────┼───────────────────┼────────────┼───────────────────┤\n",
              "│ dense_8 (\u001b[38;5;33mDense\u001b[0m)     │ (\u001b[38;5;45mNone\u001b[0m, \u001b[38;5;34m64\u001b[0m)        │        \u001b[38;5;34m896\u001b[0m │ input_layer[\u001b[38;5;34m0\u001b[0m][\u001b[38;5;34m0\u001b[0m] │\n",
              "├─────────────────────┼───────────────────┼────────────┼───────────────────┤\n",
              "│ dense_9 (\u001b[38;5;33mDense\u001b[0m)     │ (\u001b[38;5;45mNone\u001b[0m, \u001b[38;5;34m128\u001b[0m)       │      \u001b[38;5;34m8,320\u001b[0m │ dense_8[\u001b[38;5;34m0\u001b[0m][\u001b[38;5;34m0\u001b[0m]     │\n",
              "├─────────────────────┼───────────────────┼────────────┼───────────────────┤\n",
              "│ dense_10 (\u001b[38;5;33mDense\u001b[0m)    │ (\u001b[38;5;45mNone\u001b[0m, \u001b[38;5;34m32\u001b[0m)        │      \u001b[38;5;34m4,128\u001b[0m │ dense_9[\u001b[38;5;34m0\u001b[0m][\u001b[38;5;34m0\u001b[0m]     │\n",
              "├─────────────────────┼───────────────────┼────────────┼───────────────────┤\n",
              "│ dense_11 (\u001b[38;5;33mDense\u001b[0m)    │ (\u001b[38;5;45mNone\u001b[0m, \u001b[38;5;34m32\u001b[0m)        │      \u001b[38;5;34m4,128\u001b[0m │ dense_9[\u001b[38;5;34m0\u001b[0m][\u001b[38;5;34m0\u001b[0m]     │\n",
              "├─────────────────────┼───────────────────┼────────────┼───────────────────┤\n",
              "│ Department_out      │ (\u001b[38;5;45mNone\u001b[0m, \u001b[38;5;34m3\u001b[0m)         │         \u001b[38;5;34m99\u001b[0m │ dense_10[\u001b[38;5;34m0\u001b[0m][\u001b[38;5;34m0\u001b[0m]    │\n",
              "│ (\u001b[38;5;33mDense\u001b[0m)             │                   │            │                   │\n",
              "├─────────────────────┼───────────────────┼────────────┼───────────────────┤\n",
              "│ Attrition_out       │ (\u001b[38;5;45mNone\u001b[0m, \u001b[38;5;34m1\u001b[0m)         │         \u001b[38;5;34m33\u001b[0m │ dense_11[\u001b[38;5;34m0\u001b[0m][\u001b[38;5;34m0\u001b[0m]    │\n",
              "│ (\u001b[38;5;33mDense\u001b[0m)             │                   │            │                   │\n",
              "└─────────────────────┴───────────────────┴────────────┴───────────────────┘\n"
            ]
          },
          "metadata": {},
          "output_type": "display_data"
        },
        {
          "data": {
            "text/html": [
              "<pre style=\"white-space:pre;overflow-x:auto;line-height:normal;font-family:Menlo,'DejaVu Sans Mono',consolas,'Courier New',monospace\"><span style=\"font-weight: bold\"> Total params: </span><span style=\"color: #00af00; text-decoration-color: #00af00\">17,604</span> (68.77 KB)\n",
              "</pre>\n"
            ],
            "text/plain": [
              "\u001b[1m Total params: \u001b[0m\u001b[38;5;34m17,604\u001b[0m (68.77 KB)\n"
            ]
          },
          "metadata": {},
          "output_type": "display_data"
        },
        {
          "data": {
            "text/html": [
              "<pre style=\"white-space:pre;overflow-x:auto;line-height:normal;font-family:Menlo,'DejaVu Sans Mono',consolas,'Courier New',monospace\"><span style=\"font-weight: bold\"> Trainable params: </span><span style=\"color: #00af00; text-decoration-color: #00af00\">17,604</span> (68.77 KB)\n",
              "</pre>\n"
            ],
            "text/plain": [
              "\u001b[1m Trainable params: \u001b[0m\u001b[38;5;34m17,604\u001b[0m (68.77 KB)\n"
            ]
          },
          "metadata": {},
          "output_type": "display_data"
        },
        {
          "data": {
            "text/html": [
              "<pre style=\"white-space:pre;overflow-x:auto;line-height:normal;font-family:Menlo,'DejaVu Sans Mono',consolas,'Courier New',monospace\"><span style=\"font-weight: bold\"> Non-trainable params: </span><span style=\"color: #00af00; text-decoration-color: #00af00\">0</span> (0.00 B)\n",
              "</pre>\n"
            ],
            "text/plain": [
              "\u001b[1m Non-trainable params: \u001b[0m\u001b[38;5;34m0\u001b[0m (0.00 B)\n"
            ]
          },
          "metadata": {},
          "output_type": "display_data"
        }
      ],
      "source": [
        "# Create the model\n",
        "model = Model(inputs=input_layer, outputs=[Department_output, Attrition_output])\n",
        "\n",
        "# Compile\n",
        "model.compile(optimizer='adam',\n",
        "                loss={'Department_out': 'categorical_crossentropy', 'Attrition_out': 'binary_crossentropy'},\n",
        "                metrics={'Department_out': 'accuracy', 'Attrition_out': 'accuracy'})\n",
        "\n",
        "model.summary()"
      ]
    },
    {
      "cell_type": "code",
      "execution_count": 228,
      "metadata": {
        "id": "JukjTm2yTEqd"
      },
      "outputs": [
        {
          "name": "stdout",
          "output_type": "stream",
          "text": [
            "Epoch 1/100\n",
            "\u001b[1m28/28\u001b[0m \u001b[32m━━━━━━━━━━━━━━━━━━━━\u001b[0m\u001b[37m\u001b[0m \u001b[1m1s\u001b[0m 4ms/step - Attrition_out_accuracy: 0.7282 - Department_out_accuracy: 0.5252 - loss: 1.5149 - val_Attrition_out_accuracy: 0.8281 - val_Department_out_accuracy: 0.6335 - val_loss: 1.3136\n",
            "Epoch 2/100\n",
            "\u001b[1m28/28\u001b[0m \u001b[32m━━━━━━━━━━━━━━━━━━━━\u001b[0m\u001b[37m\u001b[0m \u001b[1m0s\u001b[0m 1ms/step - Attrition_out_accuracy: 0.8452 - Department_out_accuracy: 0.6656 - loss: 1.2145 - val_Attrition_out_accuracy: 0.8281 - val_Department_out_accuracy: 0.6335 - val_loss: 1.2543\n",
            "Epoch 3/100\n",
            "\u001b[1m28/28\u001b[0m \u001b[32m━━━━━━━━━━━━━━━━━━━━\u001b[0m\u001b[37m\u001b[0m \u001b[1m0s\u001b[0m 1ms/step - Attrition_out_accuracy: 0.8345 - Department_out_accuracy: 0.6551 - loss: 1.1448 - val_Attrition_out_accuracy: 0.8281 - val_Department_out_accuracy: 0.6335 - val_loss: 1.2651\n",
            "Epoch 4/100\n",
            "\u001b[1m28/28\u001b[0m \u001b[32m━━━━━━━━━━━━━━━━━━━━\u001b[0m\u001b[37m\u001b[0m \u001b[1m0s\u001b[0m 1ms/step - Attrition_out_accuracy: 0.8419 - Department_out_accuracy: 0.6628 - loss: 1.1013 - val_Attrition_out_accuracy: 0.8371 - val_Department_out_accuracy: 0.6335 - val_loss: 1.2617\n",
            "Epoch 5/100\n",
            "\u001b[1m28/28\u001b[0m \u001b[32m━━━━━━━━━━━━━━━━━━━━\u001b[0m\u001b[37m\u001b[0m \u001b[1m0s\u001b[0m 1ms/step - Attrition_out_accuracy: 0.8756 - Department_out_accuracy: 0.6484 - loss: 1.0854 - val_Attrition_out_accuracy: 0.8371 - val_Department_out_accuracy: 0.6335 - val_loss: 1.2782\n",
            "Epoch 6/100\n",
            "\u001b[1m28/28\u001b[0m \u001b[32m━━━━━━━━━━━━━━━━━━━━\u001b[0m\u001b[37m\u001b[0m \u001b[1m0s\u001b[0m 1ms/step - Attrition_out_accuracy: 0.8818 - Department_out_accuracy: 0.6661 - loss: 1.0205 - val_Attrition_out_accuracy: 0.8462 - val_Department_out_accuracy: 0.6244 - val_loss: 1.2848\n",
            "Epoch 7/100\n",
            "\u001b[1m28/28\u001b[0m \u001b[32m━━━━━━━━━━━━━━━━━━━━\u001b[0m\u001b[37m\u001b[0m \u001b[1m0s\u001b[0m 2ms/step - Attrition_out_accuracy: 0.8868 - Department_out_accuracy: 0.6718 - loss: 0.9887 - val_Attrition_out_accuracy: 0.8371 - val_Department_out_accuracy: 0.6244 - val_loss: 1.2940\n",
            "Epoch 8/100\n",
            "\u001b[1m28/28\u001b[0m \u001b[32m━━━━━━━━━━━━━━━━━━━━\u001b[0m\u001b[37m\u001b[0m \u001b[1m0s\u001b[0m 1ms/step - Attrition_out_accuracy: 0.9084 - Department_out_accuracy: 0.6870 - loss: 0.9441 - val_Attrition_out_accuracy: 0.8371 - val_Department_out_accuracy: 0.6154 - val_loss: 1.3014\n",
            "Epoch 9/100\n",
            "\u001b[1m28/28\u001b[0m \u001b[32m━━━━━━━━━━━━━━━━━━━━\u001b[0m\u001b[37m\u001b[0m \u001b[1m0s\u001b[0m 1ms/step - Attrition_out_accuracy: 0.9032 - Department_out_accuracy: 0.6990 - loss: 0.9378 - val_Attrition_out_accuracy: 0.8281 - val_Department_out_accuracy: 0.6154 - val_loss: 1.3006\n",
            "Epoch 10/100\n",
            "\u001b[1m28/28\u001b[0m \u001b[32m━━━━━━━━━━━━━━━━━━━━\u001b[0m\u001b[37m\u001b[0m \u001b[1m0s\u001b[0m 1ms/step - Attrition_out_accuracy: 0.8990 - Department_out_accuracy: 0.6982 - loss: 0.9590 - val_Attrition_out_accuracy: 0.8235 - val_Department_out_accuracy: 0.6154 - val_loss: 1.3137\n",
            "Epoch 11/100\n",
            "\u001b[1m28/28\u001b[0m \u001b[32m━━━━━━━━━━━━━━━━━━━━\u001b[0m\u001b[37m\u001b[0m \u001b[1m0s\u001b[0m 1ms/step - Attrition_out_accuracy: 0.9027 - Department_out_accuracy: 0.6749 - loss: 0.9609 - val_Attrition_out_accuracy: 0.8326 - val_Department_out_accuracy: 0.6154 - val_loss: 1.3353\n",
            "Epoch 12/100\n",
            "\u001b[1m28/28\u001b[0m \u001b[32m━━━━━━━━━━━━━━━━━━━━\u001b[0m\u001b[37m\u001b[0m \u001b[1m0s\u001b[0m 1ms/step - Attrition_out_accuracy: 0.9218 - Department_out_accuracy: 0.6950 - loss: 0.9133 - val_Attrition_out_accuracy: 0.8281 - val_Department_out_accuracy: 0.6154 - val_loss: 1.3468\n",
            "Epoch 13/100\n",
            "\u001b[1m28/28\u001b[0m \u001b[32m━━━━━━━━━━━━━━━━━━━━\u001b[0m\u001b[37m\u001b[0m \u001b[1m0s\u001b[0m 1ms/step - Attrition_out_accuracy: 0.9083 - Department_out_accuracy: 0.7202 - loss: 0.8709 - val_Attrition_out_accuracy: 0.8281 - val_Department_out_accuracy: 0.6063 - val_loss: 1.3495\n",
            "Epoch 14/100\n",
            "\u001b[1m28/28\u001b[0m \u001b[32m━━━━━━━━━━━━━━━━━━━━\u001b[0m\u001b[37m\u001b[0m \u001b[1m0s\u001b[0m 1ms/step - Attrition_out_accuracy: 0.9017 - Department_out_accuracy: 0.6910 - loss: 0.9133 - val_Attrition_out_accuracy: 0.8281 - val_Department_out_accuracy: 0.6018 - val_loss: 1.3670\n",
            "Epoch 15/100\n",
            "\u001b[1m28/28\u001b[0m \u001b[32m━━━━━━━━━━━━━━━━━━━━\u001b[0m\u001b[37m\u001b[0m \u001b[1m0s\u001b[0m 1ms/step - Attrition_out_accuracy: 0.9121 - Department_out_accuracy: 0.7330 - loss: 0.8750 - val_Attrition_out_accuracy: 0.8326 - val_Department_out_accuracy: 0.5973 - val_loss: 1.3905\n",
            "Epoch 16/100\n",
            "\u001b[1m28/28\u001b[0m \u001b[32m━━━━━━━━━━━━━━━━━━━━\u001b[0m\u001b[37m\u001b[0m \u001b[1m0s\u001b[0m 1ms/step - Attrition_out_accuracy: 0.9152 - Department_out_accuracy: 0.7337 - loss: 0.8663 - val_Attrition_out_accuracy: 0.8371 - val_Department_out_accuracy: 0.6063 - val_loss: 1.3914\n",
            "Epoch 17/100\n",
            "\u001b[1m28/28\u001b[0m \u001b[32m━━━━━━━━━━━━━━━━━━━━\u001b[0m\u001b[37m\u001b[0m \u001b[1m0s\u001b[0m 1ms/step - Attrition_out_accuracy: 0.9273 - Department_out_accuracy: 0.7378 - loss: 0.8253 - val_Attrition_out_accuracy: 0.8371 - val_Department_out_accuracy: 0.6018 - val_loss: 1.4109\n",
            "Epoch 18/100\n",
            "\u001b[1m28/28\u001b[0m \u001b[32m━━━━━━━━━━━━━━━━━━━━\u001b[0m\u001b[37m\u001b[0m \u001b[1m0s\u001b[0m 1ms/step - Attrition_out_accuracy: 0.9266 - Department_out_accuracy: 0.7651 - loss: 0.7803 - val_Attrition_out_accuracy: 0.8326 - val_Department_out_accuracy: 0.5882 - val_loss: 1.4192\n",
            "Epoch 19/100\n",
            "\u001b[1m28/28\u001b[0m \u001b[32m━━━━━━━━━━━━━━━━━━━━\u001b[0m\u001b[37m\u001b[0m \u001b[1m0s\u001b[0m 1ms/step - Attrition_out_accuracy: 0.9330 - Department_out_accuracy: 0.7964 - loss: 0.7470 - val_Attrition_out_accuracy: 0.8145 - val_Department_out_accuracy: 0.6063 - val_loss: 1.4332\n",
            "Epoch 20/100\n",
            "\u001b[1m28/28\u001b[0m \u001b[32m━━━━━━━━━━━━━━━━━━━━\u001b[0m\u001b[37m\u001b[0m \u001b[1m0s\u001b[0m 1ms/step - Attrition_out_accuracy: 0.9272 - Department_out_accuracy: 0.7961 - loss: 0.7445 - val_Attrition_out_accuracy: 0.8371 - val_Department_out_accuracy: 0.5928 - val_loss: 1.4379\n",
            "Epoch 21/100\n",
            "\u001b[1m28/28\u001b[0m \u001b[32m━━━━━━━━━━━━━━━━━━━━\u001b[0m\u001b[37m\u001b[0m \u001b[1m0s\u001b[0m 1ms/step - Attrition_out_accuracy: 0.9278 - Department_out_accuracy: 0.7699 - loss: 0.7430 - val_Attrition_out_accuracy: 0.8371 - val_Department_out_accuracy: 0.6154 - val_loss: 1.4730\n",
            "Epoch 22/100\n",
            "\u001b[1m28/28\u001b[0m \u001b[32m━━━━━━━━━━━━━━━━━━━━\u001b[0m\u001b[37m\u001b[0m \u001b[1m0s\u001b[0m 1ms/step - Attrition_out_accuracy: 0.9375 - Department_out_accuracy: 0.7893 - loss: 0.7105 - val_Attrition_out_accuracy: 0.8462 - val_Department_out_accuracy: 0.6154 - val_loss: 1.4858\n",
            "Epoch 23/100\n",
            "\u001b[1m28/28\u001b[0m \u001b[32m━━━━━━━━━━━━━━━━━━━━\u001b[0m\u001b[37m\u001b[0m \u001b[1m0s\u001b[0m 1ms/step - Attrition_out_accuracy: 0.9234 - Department_out_accuracy: 0.7854 - loss: 0.7229 - val_Attrition_out_accuracy: 0.8371 - val_Department_out_accuracy: 0.6063 - val_loss: 1.5355\n",
            "Epoch 24/100\n",
            "\u001b[1m28/28\u001b[0m \u001b[32m━━━━━━━━━━━━━━━━━━━━\u001b[0m\u001b[37m\u001b[0m \u001b[1m0s\u001b[0m 1ms/step - Attrition_out_accuracy: 0.9435 - Department_out_accuracy: 0.8201 - loss: 0.6333 - val_Attrition_out_accuracy: 0.8235 - val_Department_out_accuracy: 0.5928 - val_loss: 1.5448\n",
            "Epoch 25/100\n",
            "\u001b[1m28/28\u001b[0m \u001b[32m━━━━━━━━━━━━━━━━━━━━\u001b[0m\u001b[37m\u001b[0m \u001b[1m0s\u001b[0m 1ms/step - Attrition_out_accuracy: 0.9441 - Department_out_accuracy: 0.8242 - loss: 0.6358 - val_Attrition_out_accuracy: 0.8281 - val_Department_out_accuracy: 0.6109 - val_loss: 1.5549\n",
            "Epoch 26/100\n",
            "\u001b[1m28/28\u001b[0m \u001b[32m━━━━━━━━━━━━━━━━━━━━\u001b[0m\u001b[37m\u001b[0m \u001b[1m0s\u001b[0m 1ms/step - Attrition_out_accuracy: 0.9454 - Department_out_accuracy: 0.8234 - loss: 0.6083 - val_Attrition_out_accuracy: 0.8190 - val_Department_out_accuracy: 0.6018 - val_loss: 1.5903\n",
            "Epoch 27/100\n",
            "\u001b[1m28/28\u001b[0m \u001b[32m━━━━━━━━━━━━━━━━━━━━\u001b[0m\u001b[37m\u001b[0m \u001b[1m0s\u001b[0m 1ms/step - Attrition_out_accuracy: 0.9380 - Department_out_accuracy: 0.8356 - loss: 0.6181 - val_Attrition_out_accuracy: 0.8145 - val_Department_out_accuracy: 0.6199 - val_loss: 1.6101\n",
            "Epoch 28/100\n",
            "\u001b[1m28/28\u001b[0m \u001b[32m━━━━━━━━━━━━━━━━━━━━\u001b[0m\u001b[37m\u001b[0m \u001b[1m0s\u001b[0m 1ms/step - Attrition_out_accuracy: 0.9503 - Department_out_accuracy: 0.8296 - loss: 0.5968 - val_Attrition_out_accuracy: 0.7964 - val_Department_out_accuracy: 0.6109 - val_loss: 1.6032\n",
            "Epoch 29/100\n",
            "\u001b[1m28/28\u001b[0m \u001b[32m━━━━━━━━━━━━━━━━━━━━\u001b[0m\u001b[37m\u001b[0m \u001b[1m0s\u001b[0m 1ms/step - Attrition_out_accuracy: 0.9438 - Department_out_accuracy: 0.8268 - loss: 0.5819 - val_Attrition_out_accuracy: 0.8100 - val_Department_out_accuracy: 0.6335 - val_loss: 1.6937\n",
            "Epoch 30/100\n",
            "\u001b[1m28/28\u001b[0m \u001b[32m━━━━━━━━━━━━━━━━━━━━\u001b[0m\u001b[37m\u001b[0m \u001b[1m0s\u001b[0m 4ms/step - Attrition_out_accuracy: 0.9387 - Department_out_accuracy: 0.8343 - loss: 0.5624 - val_Attrition_out_accuracy: 0.8416 - val_Department_out_accuracy: 0.5882 - val_loss: 1.7450\n",
            "Epoch 31/100\n",
            "\u001b[1m28/28\u001b[0m \u001b[32m━━━━━━━━━━━━━━━━━━━━\u001b[0m\u001b[37m\u001b[0m \u001b[1m0s\u001b[0m 1ms/step - Attrition_out_accuracy: 0.9495 - Department_out_accuracy: 0.8728 - loss: 0.4920 - val_Attrition_out_accuracy: 0.8054 - val_Department_out_accuracy: 0.5928 - val_loss: 1.6739\n",
            "Epoch 32/100\n",
            "\u001b[1m28/28\u001b[0m \u001b[32m━━━━━━━━━━━━━━━━━━━━\u001b[0m\u001b[37m\u001b[0m \u001b[1m0s\u001b[0m 1ms/step - Attrition_out_accuracy: 0.9582 - Department_out_accuracy: 0.8700 - loss: 0.4989 - val_Attrition_out_accuracy: 0.8190 - val_Department_out_accuracy: 0.5882 - val_loss: 1.8001\n",
            "Epoch 33/100\n",
            "\u001b[1m28/28\u001b[0m \u001b[32m━━━━━━━━━━━━━━━━━━━━\u001b[0m\u001b[37m\u001b[0m \u001b[1m0s\u001b[0m 1ms/step - Attrition_out_accuracy: 0.9396 - Department_out_accuracy: 0.8713 - loss: 0.5037 - val_Attrition_out_accuracy: 0.8462 - val_Department_out_accuracy: 0.5701 - val_loss: 1.8086\n",
            "Epoch 34/100\n",
            "\u001b[1m28/28\u001b[0m \u001b[32m━━━━━━━━━━━━━━━━━━━━\u001b[0m\u001b[37m\u001b[0m \u001b[1m0s\u001b[0m 1ms/step - Attrition_out_accuracy: 0.9529 - Department_out_accuracy: 0.8722 - loss: 0.4562 - val_Attrition_out_accuracy: 0.8054 - val_Department_out_accuracy: 0.6154 - val_loss: 1.7931\n",
            "Epoch 35/100\n",
            "\u001b[1m28/28\u001b[0m \u001b[32m━━━━━━━━━━━━━━━━━━━━\u001b[0m\u001b[37m\u001b[0m \u001b[1m0s\u001b[0m 1ms/step - Attrition_out_accuracy: 0.9545 - Department_out_accuracy: 0.8972 - loss: 0.4233 - val_Attrition_out_accuracy: 0.8145 - val_Department_out_accuracy: 0.5566 - val_loss: 1.8994\n",
            "Epoch 36/100\n",
            "\u001b[1m28/28\u001b[0m \u001b[32m━━━━━━━━━━━━━━━━━━━━\u001b[0m\u001b[37m\u001b[0m \u001b[1m0s\u001b[0m 1ms/step - Attrition_out_accuracy: 0.9620 - Department_out_accuracy: 0.8821 - loss: 0.4052 - val_Attrition_out_accuracy: 0.8054 - val_Department_out_accuracy: 0.5837 - val_loss: 1.8694\n",
            "Epoch 37/100\n",
            "\u001b[1m28/28\u001b[0m \u001b[32m━━━━━━━━━━━━━━━━━━━━\u001b[0m\u001b[37m\u001b[0m \u001b[1m0s\u001b[0m 1ms/step - Attrition_out_accuracy: 0.9669 - Department_out_accuracy: 0.8991 - loss: 0.3862 - val_Attrition_out_accuracy: 0.7873 - val_Department_out_accuracy: 0.6018 - val_loss: 1.9334\n",
            "Epoch 38/100\n",
            "\u001b[1m28/28\u001b[0m \u001b[32m━━━━━━━━━━━━━━━━━━━━\u001b[0m\u001b[37m\u001b[0m \u001b[1m0s\u001b[0m 1ms/step - Attrition_out_accuracy: 0.9729 - Department_out_accuracy: 0.9182 - loss: 0.3581 - val_Attrition_out_accuracy: 0.8009 - val_Department_out_accuracy: 0.5928 - val_loss: 1.9821\n",
            "Epoch 39/100\n",
            "\u001b[1m28/28\u001b[0m \u001b[32m━━━━━━━━━━━━━━━━━━━━\u001b[0m\u001b[37m\u001b[0m \u001b[1m0s\u001b[0m 1ms/step - Attrition_out_accuracy: 0.9709 - Department_out_accuracy: 0.9036 - loss: 0.3660 - val_Attrition_out_accuracy: 0.8054 - val_Department_out_accuracy: 0.6290 - val_loss: 2.0891\n",
            "Epoch 40/100\n",
            "\u001b[1m28/28\u001b[0m \u001b[32m━━━━━━━━━━━━━━━━━━━━\u001b[0m\u001b[37m\u001b[0m \u001b[1m0s\u001b[0m 1ms/step - Attrition_out_accuracy: 0.9815 - Department_out_accuracy: 0.9148 - loss: 0.3341 - val_Attrition_out_accuracy: 0.8009 - val_Department_out_accuracy: 0.5656 - val_loss: 2.0655\n",
            "Epoch 41/100\n",
            "\u001b[1m28/28\u001b[0m \u001b[32m━━━━━━━━━━━━━━━━━━━━\u001b[0m\u001b[37m\u001b[0m \u001b[1m0s\u001b[0m 1ms/step - Attrition_out_accuracy: 0.9739 - Department_out_accuracy: 0.9262 - loss: 0.3223 - val_Attrition_out_accuracy: 0.8190 - val_Department_out_accuracy: 0.6063 - val_loss: 2.1600\n",
            "Epoch 42/100\n",
            "\u001b[1m28/28\u001b[0m \u001b[32m━━━━━━━━━━━━━━━━━━━━\u001b[0m\u001b[37m\u001b[0m \u001b[1m0s\u001b[0m 1ms/step - Attrition_out_accuracy: 0.9714 - Department_out_accuracy: 0.9056 - loss: 0.3254 - val_Attrition_out_accuracy: 0.8009 - val_Department_out_accuracy: 0.5882 - val_loss: 2.1336\n",
            "Epoch 43/100\n",
            "\u001b[1m28/28\u001b[0m \u001b[32m━━━━━━━━━━━━━━━━━━━━\u001b[0m\u001b[37m\u001b[0m \u001b[1m0s\u001b[0m 1ms/step - Attrition_out_accuracy: 0.9798 - Department_out_accuracy: 0.9400 - loss: 0.2963 - val_Attrition_out_accuracy: 0.8054 - val_Department_out_accuracy: 0.5928 - val_loss: 2.2186\n",
            "Epoch 44/100\n",
            "\u001b[1m28/28\u001b[0m \u001b[32m━━━━━━━━━━━━━━━━━━━━\u001b[0m\u001b[37m\u001b[0m \u001b[1m0s\u001b[0m 1ms/step - Attrition_out_accuracy: 0.9826 - Department_out_accuracy: 0.9543 - loss: 0.2681 - val_Attrition_out_accuracy: 0.7919 - val_Department_out_accuracy: 0.5656 - val_loss: 2.2472\n",
            "Epoch 45/100\n",
            "\u001b[1m28/28\u001b[0m \u001b[32m━━━━━━━━━━━━━━━━━━━━\u001b[0m\u001b[37m\u001b[0m \u001b[1m0s\u001b[0m 1ms/step - Attrition_out_accuracy: 0.9831 - Department_out_accuracy: 0.9378 - loss: 0.2794 - val_Attrition_out_accuracy: 0.8100 - val_Department_out_accuracy: 0.5701 - val_loss: 2.3276\n",
            "Epoch 46/100\n",
            "\u001b[1m28/28\u001b[0m \u001b[32m━━━━━━━━━━━━━━━━━━━━\u001b[0m\u001b[37m\u001b[0m \u001b[1m0s\u001b[0m 1ms/step - Attrition_out_accuracy: 0.9780 - Department_out_accuracy: 0.9430 - loss: 0.2503 - val_Attrition_out_accuracy: 0.8009 - val_Department_out_accuracy: 0.5430 - val_loss: 2.3071\n",
            "Epoch 47/100\n",
            "\u001b[1m28/28\u001b[0m \u001b[32m━━━━━━━━━━━━━━━━━━━━\u001b[0m\u001b[37m\u001b[0m \u001b[1m0s\u001b[0m 1ms/step - Attrition_out_accuracy: 0.9849 - Department_out_accuracy: 0.9502 - loss: 0.2516 - val_Attrition_out_accuracy: 0.8100 - val_Department_out_accuracy: 0.5701 - val_loss: 2.3888\n",
            "Epoch 48/100\n",
            "\u001b[1m28/28\u001b[0m \u001b[32m━━━━━━━━━━━━━━━━━━━━\u001b[0m\u001b[37m\u001b[0m \u001b[1m0s\u001b[0m 1ms/step - Attrition_out_accuracy: 0.9850 - Department_out_accuracy: 0.9616 - loss: 0.2079 - val_Attrition_out_accuracy: 0.7964 - val_Department_out_accuracy: 0.5792 - val_loss: 2.4588\n",
            "Epoch 49/100\n",
            "\u001b[1m28/28\u001b[0m \u001b[32m━━━━━━━━━━━━━━━━━━━━\u001b[0m\u001b[37m\u001b[0m \u001b[1m0s\u001b[0m 1ms/step - Attrition_out_accuracy: 0.9900 - Department_out_accuracy: 0.9647 - loss: 0.2081 - val_Attrition_out_accuracy: 0.7964 - val_Department_out_accuracy: 0.5747 - val_loss: 2.4901\n",
            "Epoch 50/100\n",
            "\u001b[1m28/28\u001b[0m \u001b[32m━━━━━━━━━━━━━━━━━━━━\u001b[0m\u001b[37m\u001b[0m \u001b[1m0s\u001b[0m 1ms/step - Attrition_out_accuracy: 0.9844 - Department_out_accuracy: 0.9612 - loss: 0.2172 - val_Attrition_out_accuracy: 0.8145 - val_Department_out_accuracy: 0.5792 - val_loss: 2.4778\n",
            "Epoch 51/100\n",
            "\u001b[1m28/28\u001b[0m \u001b[32m━━━━━━━━━━━━━━━━━━━━\u001b[0m\u001b[37m\u001b[0m \u001b[1m0s\u001b[0m 1ms/step - Attrition_out_accuracy: 0.9870 - Department_out_accuracy: 0.9599 - loss: 0.1876 - val_Attrition_out_accuracy: 0.8009 - val_Department_out_accuracy: 0.5928 - val_loss: 2.5961\n",
            "Epoch 52/100\n",
            "\u001b[1m28/28\u001b[0m \u001b[32m━━━━━━━━━━━━━━━━━━━━\u001b[0m\u001b[37m\u001b[0m \u001b[1m0s\u001b[0m 1ms/step - Attrition_out_accuracy: 0.9766 - Department_out_accuracy: 0.9745 - loss: 0.1898 - val_Attrition_out_accuracy: 0.8100 - val_Department_out_accuracy: 0.5385 - val_loss: 2.6011\n",
            "Epoch 53/100\n",
            "\u001b[1m28/28\u001b[0m \u001b[32m━━━━━━━━━━━━━━━━━━━━\u001b[0m\u001b[37m\u001b[0m \u001b[1m0s\u001b[0m 1ms/step - Attrition_out_accuracy: 0.9888 - Department_out_accuracy: 0.9777 - loss: 0.1805 - val_Attrition_out_accuracy: 0.8100 - val_Department_out_accuracy: 0.5882 - val_loss: 2.7484\n",
            "Epoch 54/100\n",
            "\u001b[1m28/28\u001b[0m \u001b[32m━━━━━━━━━━━━━━━━━━━━\u001b[0m\u001b[37m\u001b[0m \u001b[1m0s\u001b[0m 1ms/step - Attrition_out_accuracy: 0.9921 - Department_out_accuracy: 0.9673 - loss: 0.1768 - val_Attrition_out_accuracy: 0.7828 - val_Department_out_accuracy: 0.5837 - val_loss: 2.7798\n",
            "Epoch 55/100\n",
            "\u001b[1m28/28\u001b[0m \u001b[32m━━━━━━━━━━━━━━━━━━━━\u001b[0m\u001b[37m\u001b[0m \u001b[1m0s\u001b[0m 4ms/step - Attrition_out_accuracy: 0.9939 - Department_out_accuracy: 0.9718 - loss: 0.1531 - val_Attrition_out_accuracy: 0.7828 - val_Department_out_accuracy: 0.5747 - val_loss: 2.7430\n",
            "Epoch 56/100\n",
            "\u001b[1m28/28\u001b[0m \u001b[32m━━━━━━━━━━━━━━━━━━━━\u001b[0m\u001b[37m\u001b[0m \u001b[1m0s\u001b[0m 1ms/step - Attrition_out_accuracy: 0.9907 - Department_out_accuracy: 0.9859 - loss: 0.1485 - val_Attrition_out_accuracy: 0.7873 - val_Department_out_accuracy: 0.5520 - val_loss: 2.7781\n",
            "Epoch 57/100\n",
            "\u001b[1m28/28\u001b[0m \u001b[32m━━━━━━━━━━━━━━━━━━━━\u001b[0m\u001b[37m\u001b[0m \u001b[1m0s\u001b[0m 1ms/step - Attrition_out_accuracy: 0.9918 - Department_out_accuracy: 0.9830 - loss: 0.1578 - val_Attrition_out_accuracy: 0.8009 - val_Department_out_accuracy: 0.5385 - val_loss: 2.8478\n",
            "Epoch 58/100\n",
            "\u001b[1m28/28\u001b[0m \u001b[32m━━━━━━━━━━━━━━━━━━━━\u001b[0m\u001b[37m\u001b[0m \u001b[1m0s\u001b[0m 1ms/step - Attrition_out_accuracy: 0.9953 - Department_out_accuracy: 0.9883 - loss: 0.1328 - val_Attrition_out_accuracy: 0.8054 - val_Department_out_accuracy: 0.5158 - val_loss: 2.8524\n",
            "Epoch 59/100\n",
            "\u001b[1m28/28\u001b[0m \u001b[32m━━━━━━━━━━━━━━━━━━━━\u001b[0m\u001b[37m\u001b[0m \u001b[1m0s\u001b[0m 1ms/step - Attrition_out_accuracy: 0.9898 - Department_out_accuracy: 0.9813 - loss: 0.1379 - val_Attrition_out_accuracy: 0.8145 - val_Department_out_accuracy: 0.5385 - val_loss: 2.9288\n",
            "Epoch 60/100\n",
            "\u001b[1m28/28\u001b[0m \u001b[32m━━━━━━━━━━━━━━━━━━━━\u001b[0m\u001b[37m\u001b[0m \u001b[1m0s\u001b[0m 1ms/step - Attrition_out_accuracy: 0.9960 - Department_out_accuracy: 0.9933 - loss: 0.1155 - val_Attrition_out_accuracy: 0.7919 - val_Department_out_accuracy: 0.5430 - val_loss: 2.9459\n",
            "Epoch 61/100\n",
            "\u001b[1m28/28\u001b[0m \u001b[32m━━━━━━━━━━━━━━━━━━━━\u001b[0m\u001b[37m\u001b[0m \u001b[1m0s\u001b[0m 1ms/step - Attrition_out_accuracy: 0.9930 - Department_out_accuracy: 0.9894 - loss: 0.1116 - val_Attrition_out_accuracy: 0.8190 - val_Department_out_accuracy: 0.5701 - val_loss: 3.0449\n",
            "Epoch 62/100\n",
            "\u001b[1m28/28\u001b[0m \u001b[32m━━━━━━━━━━━━━━━━━━━━\u001b[0m\u001b[37m\u001b[0m \u001b[1m0s\u001b[0m 1ms/step - Attrition_out_accuracy: 0.9921 - Department_out_accuracy: 0.9980 - loss: 0.1085 - val_Attrition_out_accuracy: 0.7919 - val_Department_out_accuracy: 0.5385 - val_loss: 3.0695\n",
            "Epoch 63/100\n",
            "\u001b[1m28/28\u001b[0m \u001b[32m━━━━━━━━━━━━━━━━━━━━\u001b[0m\u001b[37m\u001b[0m \u001b[1m0s\u001b[0m 1ms/step - Attrition_out_accuracy: 0.9922 - Department_out_accuracy: 0.9899 - loss: 0.0945 - val_Attrition_out_accuracy: 0.8054 - val_Department_out_accuracy: 0.5430 - val_loss: 3.1180\n",
            "Epoch 64/100\n",
            "\u001b[1m28/28\u001b[0m \u001b[32m━━━━━━━━━━━━━━━━━━━━\u001b[0m\u001b[37m\u001b[0m \u001b[1m0s\u001b[0m 1ms/step - Attrition_out_accuracy: 0.9877 - Department_out_accuracy: 0.9977 - loss: 0.0953 - val_Attrition_out_accuracy: 0.7873 - val_Department_out_accuracy: 0.5792 - val_loss: 3.2405\n",
            "Epoch 65/100\n",
            "\u001b[1m28/28\u001b[0m \u001b[32m━━━━━━━━━━━━━━━━━━━━\u001b[0m\u001b[37m\u001b[0m \u001b[1m0s\u001b[0m 1ms/step - Attrition_out_accuracy: 0.9949 - Department_out_accuracy: 0.9924 - loss: 0.0940 - val_Attrition_out_accuracy: 0.7738 - val_Department_out_accuracy: 0.5611 - val_loss: 3.2347\n",
            "Epoch 66/100\n",
            "\u001b[1m28/28\u001b[0m \u001b[32m━━━━━━━━━━━━━━━━━━━━\u001b[0m\u001b[37m\u001b[0m \u001b[1m0s\u001b[0m 1ms/step - Attrition_out_accuracy: 0.9886 - Department_out_accuracy: 0.9937 - loss: 0.0968 - val_Attrition_out_accuracy: 0.7873 - val_Department_out_accuracy: 0.6063 - val_loss: 3.2991\n",
            "Epoch 67/100\n",
            "\u001b[1m28/28\u001b[0m \u001b[32m━━━━━━━━━━━━━━━━━━━━\u001b[0m\u001b[37m\u001b[0m \u001b[1m0s\u001b[0m 1ms/step - Attrition_out_accuracy: 0.9967 - Department_out_accuracy: 0.9752 - loss: 0.1268 - val_Attrition_out_accuracy: 0.7964 - val_Department_out_accuracy: 0.5475 - val_loss: 3.4666\n",
            "Epoch 68/100\n",
            "\u001b[1m28/28\u001b[0m \u001b[32m━━━━━━━━━━━━━━━━━━━━\u001b[0m\u001b[37m\u001b[0m \u001b[1m0s\u001b[0m 1ms/step - Attrition_out_accuracy: 0.9944 - Department_out_accuracy: 0.9474 - loss: 0.1631 - val_Attrition_out_accuracy: 0.7873 - val_Department_out_accuracy: 0.5520 - val_loss: 3.2983\n",
            "Epoch 69/100\n",
            "\u001b[1m28/28\u001b[0m \u001b[32m━━━━━━━━━━━━━━━━━━━━\u001b[0m\u001b[37m\u001b[0m \u001b[1m0s\u001b[0m 1ms/step - Attrition_out_accuracy: 0.9941 - Department_out_accuracy: 0.9844 - loss: 0.0957 - val_Attrition_out_accuracy: 0.7738 - val_Department_out_accuracy: 0.5385 - val_loss: 3.3621\n",
            "Epoch 70/100\n",
            "\u001b[1m28/28\u001b[0m \u001b[32m━━━━━━━━━━━━━━━━━━━━\u001b[0m\u001b[37m\u001b[0m \u001b[1m0s\u001b[0m 2ms/step - Attrition_out_accuracy: 0.9935 - Department_out_accuracy: 0.9941 - loss: 0.0738 - val_Attrition_out_accuracy: 0.8009 - val_Department_out_accuracy: 0.5385 - val_loss: 3.4526\n",
            "Epoch 71/100\n",
            "\u001b[1m28/28\u001b[0m \u001b[32m━━━━━━━━━━━━━━━━━━━━\u001b[0m\u001b[37m\u001b[0m \u001b[1m0s\u001b[0m 1ms/step - Attrition_out_accuracy: 0.9947 - Department_out_accuracy: 0.9931 - loss: 0.0775 - val_Attrition_out_accuracy: 0.7873 - val_Department_out_accuracy: 0.5339 - val_loss: 3.4658\n",
            "Epoch 72/100\n",
            "\u001b[1m28/28\u001b[0m \u001b[32m━━━━━━━━━━━━━━━━━━━━\u001b[0m\u001b[37m\u001b[0m \u001b[1m0s\u001b[0m 1ms/step - Attrition_out_accuracy: 0.9936 - Department_out_accuracy: 0.9938 - loss: 0.0806 - val_Attrition_out_accuracy: 0.8100 - val_Department_out_accuracy: 0.5566 - val_loss: 3.5457\n",
            "Epoch 73/100\n",
            "\u001b[1m28/28\u001b[0m \u001b[32m━━━━━━━━━━━━━━━━━━━━\u001b[0m\u001b[37m\u001b[0m \u001b[1m0s\u001b[0m 1ms/step - Attrition_out_accuracy: 0.9990 - Department_out_accuracy: 0.9987 - loss: 0.0708 - val_Attrition_out_accuracy: 0.7919 - val_Department_out_accuracy: 0.5339 - val_loss: 3.5871\n",
            "Epoch 74/100\n",
            "\u001b[1m28/28\u001b[0m \u001b[32m━━━━━━━━━━━━━━━━━━━━\u001b[0m\u001b[37m\u001b[0m \u001b[1m0s\u001b[0m 1ms/step - Attrition_out_accuracy: 0.9973 - Department_out_accuracy: 0.9989 - loss: 0.0600 - val_Attrition_out_accuracy: 0.7873 - val_Department_out_accuracy: 0.5520 - val_loss: 3.6780\n",
            "Epoch 75/100\n",
            "\u001b[1m28/28\u001b[0m \u001b[32m━━━━━━━━━━━━━━━━━━━━\u001b[0m\u001b[37m\u001b[0m \u001b[1m0s\u001b[0m 1ms/step - Attrition_out_accuracy: 0.9969 - Department_out_accuracy: 0.9938 - loss: 0.0618 - val_Attrition_out_accuracy: 0.7964 - val_Department_out_accuracy: 0.5475 - val_loss: 3.6575\n",
            "Epoch 76/100\n",
            "\u001b[1m28/28\u001b[0m \u001b[32m━━━━━━━━━━━━━━━━━━━━\u001b[0m\u001b[37m\u001b[0m \u001b[1m0s\u001b[0m 1ms/step - Attrition_out_accuracy: 0.9944 - Department_out_accuracy: 0.9967 - loss: 0.0520 - val_Attrition_out_accuracy: 0.7964 - val_Department_out_accuracy: 0.5158 - val_loss: 3.6760\n",
            "Epoch 77/100\n",
            "\u001b[1m28/28\u001b[0m \u001b[32m━━━━━━━━━━━━━━━━━━━━\u001b[0m\u001b[37m\u001b[0m \u001b[1m0s\u001b[0m 1ms/step - Attrition_out_accuracy: 0.9986 - Department_out_accuracy: 0.9916 - loss: 0.0480 - val_Attrition_out_accuracy: 0.7738 - val_Department_out_accuracy: 0.5566 - val_loss: 3.8891\n",
            "Epoch 78/100\n",
            "\u001b[1m28/28\u001b[0m \u001b[32m━━━━━━━━━━━━━━━━━━━━\u001b[0m\u001b[37m\u001b[0m \u001b[1m0s\u001b[0m 1ms/step - Attrition_out_accuracy: 0.9963 - Department_out_accuracy: 0.9962 - loss: 0.0517 - val_Attrition_out_accuracy: 0.7964 - val_Department_out_accuracy: 0.5430 - val_loss: 3.8336\n",
            "Epoch 79/100\n",
            "\u001b[1m28/28\u001b[0m \u001b[32m━━━━━━━━━━━━━━━━━━━━\u001b[0m\u001b[37m\u001b[0m \u001b[1m0s\u001b[0m 1ms/step - Attrition_out_accuracy: 0.9947 - Department_out_accuracy: 0.9960 - loss: 0.0445 - val_Attrition_out_accuracy: 0.8009 - val_Department_out_accuracy: 0.5204 - val_loss: 3.7765\n",
            "Epoch 80/100\n",
            "\u001b[1m28/28\u001b[0m \u001b[32m━━━━━━━━━━━━━━━━━━━━\u001b[0m\u001b[37m\u001b[0m \u001b[1m0s\u001b[0m 4ms/step - Attrition_out_accuracy: 0.9994 - Department_out_accuracy: 0.9951 - loss: 0.0488 - val_Attrition_out_accuracy: 0.7647 - val_Department_out_accuracy: 0.5475 - val_loss: 3.8337\n",
            "Epoch 81/100\n",
            "\u001b[1m28/28\u001b[0m \u001b[32m━━━━━━━━━━━━━━━━━━━━\u001b[0m\u001b[37m\u001b[0m \u001b[1m0s\u001b[0m 1ms/step - Attrition_out_accuracy: 1.0000 - Department_out_accuracy: 0.9975 - loss: 0.0459 - val_Attrition_out_accuracy: 0.7828 - val_Department_out_accuracy: 0.5385 - val_loss: 3.8765\n",
            "Epoch 82/100\n",
            "\u001b[1m28/28\u001b[0m \u001b[32m━━━━━━━━━━━━━━━━━━━━\u001b[0m\u001b[37m\u001b[0m \u001b[1m0s\u001b[0m 1ms/step - Attrition_out_accuracy: 0.9993 - Department_out_accuracy: 0.9880 - loss: 0.0573 - val_Attrition_out_accuracy: 0.7919 - val_Department_out_accuracy: 0.5339 - val_loss: 3.9135\n",
            "Epoch 83/100\n",
            "\u001b[1m28/28\u001b[0m \u001b[32m━━━━━━━━━━━━━━━━━━━━\u001b[0m\u001b[37m\u001b[0m \u001b[1m0s\u001b[0m 1ms/step - Attrition_out_accuracy: 0.9964 - Department_out_accuracy: 0.9970 - loss: 0.0442 - val_Attrition_out_accuracy: 0.7602 - val_Department_out_accuracy: 0.5294 - val_loss: 3.9853\n",
            "Epoch 84/100\n",
            "\u001b[1m28/28\u001b[0m \u001b[32m━━━━━━━━━━━━━━━━━━━━\u001b[0m\u001b[37m\u001b[0m \u001b[1m0s\u001b[0m 1ms/step - Attrition_out_accuracy: 0.9945 - Department_out_accuracy: 0.9890 - loss: 0.0531 - val_Attrition_out_accuracy: 0.7738 - val_Department_out_accuracy: 0.5113 - val_loss: 3.9914\n",
            "Epoch 85/100\n",
            "\u001b[1m28/28\u001b[0m \u001b[32m━━━━━━━━━━━━━━━━━━━━\u001b[0m\u001b[37m\u001b[0m \u001b[1m0s\u001b[0m 1ms/step - Attrition_out_accuracy: 0.9978 - Department_out_accuracy: 0.9941 - loss: 0.0460 - val_Attrition_out_accuracy: 0.7738 - val_Department_out_accuracy: 0.5339 - val_loss: 4.0864\n",
            "Epoch 86/100\n",
            "\u001b[1m28/28\u001b[0m \u001b[32m━━━━━━━━━━━━━━━━━━━━\u001b[0m\u001b[37m\u001b[0m \u001b[1m0s\u001b[0m 1ms/step - Attrition_out_accuracy: 0.9980 - Department_out_accuracy: 0.9926 - loss: 0.0430 - val_Attrition_out_accuracy: 0.7873 - val_Department_out_accuracy: 0.5973 - val_loss: 4.2630\n",
            "Epoch 87/100\n",
            "\u001b[1m28/28\u001b[0m \u001b[32m━━━━━━━━━━━━━━━━━━━━\u001b[0m\u001b[37m\u001b[0m \u001b[1m0s\u001b[0m 1ms/step - Attrition_out_accuracy: 0.9987 - Department_out_accuracy: 0.9911 - loss: 0.0462 - val_Attrition_out_accuracy: 0.7511 - val_Department_out_accuracy: 0.5385 - val_loss: 4.1453\n",
            "Epoch 88/100\n",
            "\u001b[1m28/28\u001b[0m \u001b[32m━━━━━━━━━━━━━━━━━━━━\u001b[0m\u001b[37m\u001b[0m \u001b[1m0s\u001b[0m 1ms/step - Attrition_out_accuracy: 0.9994 - Department_out_accuracy: 0.9941 - loss: 0.0437 - val_Attrition_out_accuracy: 0.7692 - val_Department_out_accuracy: 0.5566 - val_loss: 4.2715\n",
            "Epoch 89/100\n",
            "\u001b[1m28/28\u001b[0m \u001b[32m━━━━━━━━━━━━━━━━━━━━\u001b[0m\u001b[37m\u001b[0m \u001b[1m0s\u001b[0m 1ms/step - Attrition_out_accuracy: 0.9998 - Department_out_accuracy: 0.9934 - loss: 0.0411 - val_Attrition_out_accuracy: 0.7964 - val_Department_out_accuracy: 0.5385 - val_loss: 4.2342\n",
            "Epoch 90/100\n",
            "\u001b[1m28/28\u001b[0m \u001b[32m━━━━━━━━━━━━━━━━━━━━\u001b[0m\u001b[37m\u001b[0m \u001b[1m0s\u001b[0m 1ms/step - Attrition_out_accuracy: 0.9997 - Department_out_accuracy: 0.9977 - loss: 0.0330 - val_Attrition_out_accuracy: 0.7647 - val_Department_out_accuracy: 0.5520 - val_loss: 4.2724\n",
            "Epoch 91/100\n",
            "\u001b[1m28/28\u001b[0m \u001b[32m━━━━━━━━━━━━━━━━━━━━\u001b[0m\u001b[37m\u001b[0m \u001b[1m0s\u001b[0m 1ms/step - Attrition_out_accuracy: 0.9998 - Department_out_accuracy: 0.9923 - loss: 0.0323 - val_Attrition_out_accuracy: 0.7783 - val_Department_out_accuracy: 0.5249 - val_loss: 4.3090\n",
            "Epoch 92/100\n",
            "\u001b[1m28/28\u001b[0m \u001b[32m━━━━━━━━━━━━━━━━━━━━\u001b[0m\u001b[37m\u001b[0m \u001b[1m0s\u001b[0m 1ms/step - Attrition_out_accuracy: 0.9972 - Department_out_accuracy: 0.9990 - loss: 0.0299 - val_Attrition_out_accuracy: 0.7783 - val_Department_out_accuracy: 0.5249 - val_loss: 4.3742\n",
            "Epoch 93/100\n",
            "\u001b[1m28/28\u001b[0m \u001b[32m━━━━━━━━━━━━━━━━━━━━\u001b[0m\u001b[37m\u001b[0m \u001b[1m0s\u001b[0m 1ms/step - Attrition_out_accuracy: 0.9998 - Department_out_accuracy: 0.9997 - loss: 0.0243 - val_Attrition_out_accuracy: 0.7738 - val_Department_out_accuracy: 0.5294 - val_loss: 4.4059\n",
            "Epoch 94/100\n",
            "\u001b[1m28/28\u001b[0m \u001b[32m━━━━━━━━━━━━━━━━━━━━\u001b[0m\u001b[37m\u001b[0m \u001b[1m0s\u001b[0m 1ms/step - Attrition_out_accuracy: 1.0000 - Department_out_accuracy: 0.9998 - loss: 0.0265 - val_Attrition_out_accuracy: 0.7783 - val_Department_out_accuracy: 0.5430 - val_loss: 4.4631\n",
            "Epoch 95/100\n",
            "\u001b[1m28/28\u001b[0m \u001b[32m━━━━━━━━━━━━━━━━━━━━\u001b[0m\u001b[37m\u001b[0m \u001b[1m0s\u001b[0m 1ms/step - Attrition_out_accuracy: 0.9987 - Department_out_accuracy: 0.9987 - loss: 0.0253 - val_Attrition_out_accuracy: 0.7738 - val_Department_out_accuracy: 0.5113 - val_loss: 4.4718\n",
            "Epoch 96/100\n",
            "\u001b[1m28/28\u001b[0m \u001b[32m━━━━━━━━━━━━━━━━━━━━\u001b[0m\u001b[37m\u001b[0m \u001b[1m0s\u001b[0m 1ms/step - Attrition_out_accuracy: 0.9981 - Department_out_accuracy: 0.9973 - loss: 0.0304 - val_Attrition_out_accuracy: 0.7964 - val_Department_out_accuracy: 0.5249 - val_loss: 4.5006\n",
            "Epoch 97/100\n",
            "\u001b[1m28/28\u001b[0m \u001b[32m━━━━━━━━━━━━━━━━━━━━\u001b[0m\u001b[37m\u001b[0m \u001b[1m0s\u001b[0m 1ms/step - Attrition_out_accuracy: 0.9990 - Department_out_accuracy: 0.9954 - loss: 0.0282 - val_Attrition_out_accuracy: 0.7919 - val_Department_out_accuracy: 0.5204 - val_loss: 4.5281\n",
            "Epoch 98/100\n",
            "\u001b[1m28/28\u001b[0m \u001b[32m━━━━━━━━━━━━━━━━━━━━\u001b[0m\u001b[37m\u001b[0m \u001b[1m0s\u001b[0m 1ms/step - Attrition_out_accuracy: 0.9998 - Department_out_accuracy: 0.9960 - loss: 0.0315 - val_Attrition_out_accuracy: 0.7692 - val_Department_out_accuracy: 0.5385 - val_loss: 4.5780\n",
            "Epoch 99/100\n",
            "\u001b[1m28/28\u001b[0m \u001b[32m━━━━━━━━━━━━━━━━━━━━\u001b[0m\u001b[37m\u001b[0m \u001b[1m0s\u001b[0m 1ms/step - Attrition_out_accuracy: 0.9977 - Department_out_accuracy: 0.9951 - loss: 0.0286 - val_Attrition_out_accuracy: 0.8054 - val_Department_out_accuracy: 0.5520 - val_loss: 4.5983\n",
            "Epoch 100/100\n",
            "\u001b[1m28/28\u001b[0m \u001b[32m━━━━━━━━━━━━━━━━━━━━\u001b[0m\u001b[37m\u001b[0m \u001b[1m0s\u001b[0m 2ms/step - Attrition_out_accuracy: 0.9998 - Department_out_accuracy: 0.9949 - loss: 0.0310 - val_Attrition_out_accuracy: 0.7783 - val_Department_out_accuracy: 0.5430 - val_loss: 4.6743\n"
          ]
        },
        {
          "data": {
            "text/plain": [
              "<keras.src.callbacks.history.History at 0x3105e7430>"
            ]
          },
          "execution_count": 228,
          "metadata": {},
          "output_type": "execute_result"
        }
      ],
      "source": [
        "# Train the model\n",
        "model.fit(X_train_scaled,\n",
        "            {'Department_out': y_Department_train, 'Attrition_out': y_Attrition_train},\n",
        "            epochs=100,\n",
        "            batch_size=32,\n",
        "            validation_split=0.2)"
      ]
    },
    {
      "cell_type": "code",
      "execution_count": 232,
      "metadata": {
        "id": "9OqhUiOJUBkR"
      },
      "outputs": [
        {
          "name": "stdout",
          "output_type": "stream",
          "text": [
            "\u001b[1m12/12\u001b[0m \u001b[32m━━━━━━━━━━━━━━━━━━━━\u001b[0m\u001b[37m\u001b[0m \u001b[1m0s\u001b[0m 603us/step - Attrition_out_accuracy: 0.7640 - Department_out_accuracy: 0.4803 - loss: 4.8862\n"
          ]
        },
        {
          "data": {
            "text/plain": [
              "[4.652603626251221, 0.804347813129425, 0.5027173757553101]"
            ]
          },
          "execution_count": 232,
          "metadata": {},
          "output_type": "execute_result"
        }
      ],
      "source": [
        "# Evaluate the model\n",
        "test_results = model.evaluate(X_test_scaled, {'Department_out': y_Department_test, 'Attrition_out': y_Attrition_test})\n",
        "test_results"
      ]
    },
    {
      "cell_type": "code",
      "execution_count": 235,
      "metadata": {
        "colab": {
          "base_uri": "https://localhost:8080/"
        },
        "id": "ZlCtlHi0Vt54",
        "outputId": "bc21ef3e-80c2-4b38-9c29-79515bc23dec"
      },
      "outputs": [
        {
          "name": "stdout",
          "output_type": "stream",
          "text": [
            "Department predictions accuracy: 0.804\n",
            "Attrition predictions accuracy: 0.503\n"
          ]
        }
      ],
      "source": [
        "# Print the accuracy for both department and attrition\n",
        "print(f\"Department predictions accuracy: {test_results[1]:.3f}\")\n",
        "print(f\"Attrition predictions accuracy: {test_results[2]:.3f}\")"
      ]
    },
    {
      "cell_type": "markdown",
      "metadata": {
        "id": "eGSyfsZfWOQM"
      },
      "source": [
        "# Summary\n",
        "\n",
        "In the provided space below, briefly answer the following questions.\n",
        "\n",
        "1. Is accuracy the best metric to use on this data? Why or why not?\n",
        "\n",
        "2. What activation functions did you choose for your output layers, and why?\n",
        "\n",
        "3. Can you name a few ways that this model might be improved?"
      ]
    },
    {
      "cell_type": "markdown",
      "metadata": {
        "id": "pi9SLpFnWvbF"
      },
      "source": [
        "YOUR ANSWERS HERE\n",
        "\n",
        "1. \n",
        "2. \n",
        "3. "
      ]
    },
    {
      "cell_type": "markdown",
      "metadata": {},
      "source": []
    }
  ],
  "metadata": {
    "colab": {
      "provenance": []
    },
    "kernelspec": {
      "display_name": "Python 3",
      "language": "python",
      "name": "python3"
    },
    "language_info": {
      "codemirror_mode": {
        "name": "ipython",
        "version": 3
      },
      "file_extension": ".py",
      "mimetype": "text/x-python",
      "name": "python",
      "nbconvert_exporter": "python",
      "pygments_lexer": "ipython3",
      "version": "3.10.13"
    },
    "vscode": {
      "interpreter": {
        "hash": "31f2aee4e71d21fbe5cf8b01ff0e069b9275f58929596ceb00d14d90e3e16cd6"
      }
    }
  },
  "nbformat": 4,
  "nbformat_minor": 0
}
